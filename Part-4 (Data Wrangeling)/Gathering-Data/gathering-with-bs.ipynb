{
 "cells": [
  {
   "cell_type": "markdown",
   "metadata": {},
   "source": [
    "## Quiz"
   ]
  },
  {
   "cell_type": "code",
   "execution_count": 22,
   "metadata": {},
   "outputs": [],
   "source": [
    "from bs4 import BeautifulSoup\n",
    "import os\n",
    "import pandas as pd"
   ]
  },
  {
   "cell_type": "code",
   "execution_count": 66,
   "metadata": {},
   "outputs": [
    {
     "data": {
      "text/html": [
       "<div>\n",
       "<style scoped>\n",
       "    .dataframe tbody tr th:only-of-type {\n",
       "        vertical-align: middle;\n",
       "    }\n",
       "\n",
       "    .dataframe tbody tr th {\n",
       "        vertical-align: top;\n",
       "    }\n",
       "\n",
       "    .dataframe thead th {\n",
       "        text-align: right;\n",
       "    }\n",
       "</style>\n",
       "<table border=\"1\" class=\"dataframe\">\n",
       "  <thead>\n",
       "    <tr style=\"text-align: right;\">\n",
       "      <th></th>\n",
       "      <th>title</th>\n",
       "      <th>audience_score</th>\n",
       "      <th>number_of_audience_ratings</th>\n",
       "    </tr>\n",
       "  </thead>\n",
       "  <tbody>\n",
       "    <tr>\n",
       "      <th>0</th>\n",
       "      <td>12 Angry Men (Twelve Angry Men) (1957)</td>\n",
       "      <td>97</td>\n",
       "      <td>103672</td>\n",
       "    </tr>\n",
       "    <tr>\n",
       "      <th>1</th>\n",
       "      <td>The 39 Steps (1935)</td>\n",
       "      <td>86</td>\n",
       "      <td>23647</td>\n",
       "    </tr>\n",
       "    <tr>\n",
       "      <th>2</th>\n",
       "      <td>The Adventures of Robin Hood (1938)</td>\n",
       "      <td>89</td>\n",
       "      <td>33584</td>\n",
       "    </tr>\n",
       "    <tr>\n",
       "      <th>3</th>\n",
       "      <td>All About Eve (1950)</td>\n",
       "      <td>94</td>\n",
       "      <td>44564</td>\n",
       "    </tr>\n",
       "    <tr>\n",
       "      <th>4</th>\n",
       "      <td>All Quiet on the Western Front (1930)</td>\n",
       "      <td>89</td>\n",
       "      <td>17768</td>\n",
       "    </tr>\n",
       "  </tbody>\n",
       "</table>\n",
       "</div>"
      ],
      "text/plain": [
       "                                    title  audience_score  \\\n",
       "0  12 Angry Men (Twelve Angry Men) (1957)              97   \n",
       "1                     The 39 Steps (1935)              86   \n",
       "2     The Adventures of Robin Hood (1938)              89   \n",
       "3                    All About Eve (1950)              94   \n",
       "4   All Quiet on the Western Front (1930)              89   \n",
       "\n",
       "   number_of_audience_ratings  \n",
       "0                      103672  \n",
       "1                       23647  \n",
       "2                       33584  \n",
       "3                       44564  \n",
       "4                       17768  "
      ]
     },
     "execution_count": 66,
     "metadata": {},
     "output_type": "execute_result"
    }
   ],
   "source": [
    "# List of dictionaries to build file by file and later convert to a DataFrame\n",
    "df_list = []\n",
    "folder = 'rt_html'\n",
    "for movie_html in os.listdir(folder):\n",
    "    with open(os.path.join(folder, movie_html)) as file:\n",
    "        # Your code here\n",
    "        # Note: a correct implementation may take ~15 seconds to run\n",
    "        soup=BeautifulSoup(file,'html.parser')\n",
    "        \n",
    "        title=soup.find('title').contents[0][:-len(' - Rotten Tomatoes')]\n",
    "        audience_score=soup.find('div',class_='audience-score meter').find('span',class_='superPageFontColor').contents[0][:-1]\n",
    "        num_audience_ratings=soup.find('div',class_='audience-info hidden-xs superPageFontColor')\n",
    "        num_audience_ratings=num_audience_ratings.find_all('div')[1].contents[2].strip().replace(',','')\n",
    "        \n",
    "        # Append to list of dictionaries\n",
    "        df_list.append({'title': title,\n",
    "                        'audience_score': int(audience_score),\n",
    "                        'number_of_audience_ratings': int(num_audience_ratings)})\n",
    "df = pd.DataFrame(df_list, columns = ['title', 'audience_score', 'number_of_audience_ratings'])\n",
    "df.head()"
   ]
  },
  {
   "cell_type": "markdown",
   "metadata": {},
   "source": [
    "## Solution Test\n",
    "Run the cell below the see if your solution is correct. If an `AssertionError` is thrown, your solution is incorrect. If no error is thrown, your solution is correct."
   ]
  },
  {
   "cell_type": "code",
   "execution_count": 67,
   "metadata": {},
   "outputs": [
    {
     "ename": "AssertionError",
     "evalue": "DataFrame.iloc[:, 0] (column name=\"title\") are different\n\nDataFrame.iloc[:, 0] (column name=\"title\") values are different (3.0 %)\n[index]: [0, 1, 2, 3, 4, 5, 6, 7, 8, 9, 10, 11, 12, 13, 14, 15, 16, 17, 18, 19, 20, 21, 22, 23, 24, 25, 26, 27, 28, 29, 30, 31, 32, 33, 34, 35, 36, 37, 38, 39, 40, 41, 42, 43, 44, 45, 46, 47, 48, 49, 50, 51, 52, 53, 54, 55, 56, 57, 58, 59, 60, 61, 62, 63, 64, 65, 66, 67, 68, 69, 70, 71, 72, 73, 74, 75, 76, 77, 78, 79, 80, 81, 82, 83, 84, 85, 86, 87, 88, 89, 90, 91, 92, 93, 94, 95, 96, 97, 98, 99]\n[left]:  [12 Angry Men (Twelve Angry Men) (1957), 12 Years a Slave (2013), A Hard Day's Night (1964), A Streetcar Named Desire (1951), Alien (1979), All About Eve (1950), All Quiet on the Western Front (1930), Apocalypse Now (1979), Argo (2012), Army of Shadows (L'ArmÃ©e des ombres) (1969), Arrival (2016), Baby Driver (2017), Battleship Potemkin (1925), Bicycle Thieves (Ladri di biciclette) (1949), Boyhood (2014), Brooklyn (2015), Casablanca (1942), Citizen Kane (1941), Dr. Strangelove Or How I Learned to Stop Worrying and Love the Bomb (1964), Dunkirk (2017), E.T. The Extra-Terrestrial (1982), Finding Nemo (2003), Frankenstein (1931), Get Out (2017), Gone With the Wind (1939), Gravity (2013), Harry Potter and the Deathly Hallows - Part 2 (2011), Hell or High Water (2016), High Noon (1952), Inside Out (2015), It Happened One Night (1934), Jaws (1975), King Kong (1933), L.A. Confidential (1997), La Grande illusion (Grand Illusion) (1938), La La Land (2016), Laura (1944), Logan (2017), Mad Max: Fury Road (2015), Man on Wire (2008), Manchester by the Sea (2016), Metropolis (1927), Modern Times (1936), Moonlight (2016), M (1931), North by Northwest (1959), Nosferatu, a Symphony of Horror (Nosferatu, eine Symphonie des Grauens) (Nosferatu the Vampire) (1922), On the Waterfront (1954), Open City (1946), Pinocchio (1940), Psycho (1960), RashÃ´mon (1951), Rear Window (1954), Rebecca (1940), Repulsion (1965), Roman Holiday (1953), Rosemary's Baby (1968), Selma (2015), Seven Samurai (Shichinin no Samurai) (1956), Singin' in the Rain (1952), Skyfall (2012), Snow White and the Seven Dwarfs (1937), Spotlight (2015), Star Trek (2009), Star Wars: Episode VII - The Force Awakens (2015), Sunset Boulevard (1950), Taxi Driver (1976), The 39 Steps (1935), The 400 Blows (Les Quatre cents coups) (1959), The Adventures of Robin Hood (1938), The Babadook (2014), The Battle of Algiers (La Battaglia di Algeri) (1967), The Big Sick (2017), The Bride of Frankenstein (1935), The Cabinet of Dr. Caligari (Das Cabinet des Dr. Caligari) (1920), The Conformist (1970), The Dark Knight (2008), The Godfather, Part II (1974), The Godfather (1972), The Good, the Bad and the Ugly (1966), The Grapes of Wrath (1940), The Jungle Book (2016), The Last Picture Show (1971), The Maltese Falcon (1941), The Night of the Hunter (1955), The Philadelphia Story (1940), The Third Man (1949), The Treasure of the Sierra Madre (1948), The Wages of Fear (1953), The Wizard of Oz (1939), The Wrestler (2008), Tokyo Story (TÃ´kyÃ´ monogatari) (1953), Touch of Evil (1958), Toy Story 2 (1999), Toy Story 3 (2010), Toy Story (1995), Up (2009), Vertigo (1958), Wonder Woman (2017), Zootopia (2016)]\n[right]: [12 Angry Men (Twelve Angry Men) (1957), 12 Years a Slave (2013), A Hard Day's Night (1964), A Streetcar Named Desire (1951), Alien (1979), All About Eve (1950), All Quiet on the Western Front (1930), Apocalypse Now (1979), Argo (2012), Army of Shadows (L'Armée des ombres) (1969), Arrival (2016), Baby Driver (2017), Battleship Potemkin (1925), Bicycle Thieves (Ladri di biciclette) (1949), Boyhood (2014), Brooklyn (2015), Casablanca (1942), Citizen Kane (1941), Dr. Strangelove Or How I Learned to Stop Worrying and Love the Bomb (1964), Dunkirk (2017), E.T. The Extra-Terrestrial (1982), Finding Nemo (2003), Frankenstein (1931), Get Out (2017), Gone With the Wind (1939), Gravity (2013), Harry Potter and the Deathly Hallows - Part 2 (2011), Hell or High Water (2016), High Noon (1952), Inside Out (2015), It Happened One Night (1934), Jaws (1975), King Kong (1933), L.A. Confidential (1997), La Grande illusion (Grand Illusion) (1938), La La Land (2016), Laura (1944), Logan (2017), Mad Max: Fury Road (2015), Man on Wire (2008), Manchester by the Sea (2016), Metropolis (1927), Modern Times (1936), Moonlight (2016), M (1931), North by Northwest (1959), Nosferatu, a Symphony of Horror (Nosferatu, eine Symphonie des Grauens) (Nosferatu the Vampire) (1922), On the Waterfront (1954), Open City (1946), Pinocchio (1940), Psycho (1960), Rashômon (1951), Rear Window (1954), Rebecca (1940), Repulsion (1965), Roman Holiday (1953), Rosemary's Baby (1968), Selma (2015), Seven Samurai (Shichinin no Samurai) (1956), Singin' in the Rain (1952), Skyfall (2012), Snow White and the Seven Dwarfs (1937), Spotlight (2015), Star Trek (2009), Star Wars: Episode VII - The Force Awakens (2015), Sunset Boulevard (1950), Taxi Driver (1976), The 39 Steps (1935), The 400 Blows (Les Quatre cents coups) (1959), The Adventures of Robin Hood (1938), The Babadook (2014), The Battle of Algiers (La Battaglia di Algeri) (1967), The Big Sick (2017), The Bride of Frankenstein (1935), The Cabinet of Dr. Caligari (Das Cabinet des Dr. Caligari) (1920), The Conformist (1970), The Dark Knight (2008), The Godfather, Part II (1974), The Godfather (1972), The Good, the Bad and the Ugly (1966), The Grapes of Wrath (1940), The Jungle Book (2016), The Last Picture Show (1971), The Maltese Falcon (1941), The Night of the Hunter (1955), The Philadelphia Story (1940), The Third Man (1949), The Treasure of the Sierra Madre (1948), The Wages of Fear (1953), The Wizard of Oz (1939), The Wrestler (2008), Tokyo Story (Tôkyô monogatari) (1953), Touch of Evil (1958), Toy Story 2 (1999), Toy Story 3 (2010), Toy Story (1995), Up (2009), Vertigo (1958), Wonder Woman (2017), Zootopia (2016)]",
     "output_type": "error",
     "traceback": [
      "\u001b[1;31m---------------------------------------------------------------------------\u001b[0m",
      "\u001b[1;31mAssertionError\u001b[0m                            Traceback (most recent call last)",
      "\u001b[1;32m<ipython-input-67-79a44f870650>\u001b[0m in \u001b[0;36m<module>\u001b[1;34m\u001b[0m\n\u001b[0;32m      4\u001b[0m \u001b[0mdf_solution\u001b[0m\u001b[1;33m.\u001b[0m\u001b[0msort_values\u001b[0m\u001b[1;33m(\u001b[0m\u001b[1;34m'title'\u001b[0m\u001b[1;33m,\u001b[0m \u001b[0minplace\u001b[0m \u001b[1;33m=\u001b[0m \u001b[1;32mTrue\u001b[0m\u001b[1;33m)\u001b[0m\u001b[1;33m\u001b[0m\u001b[1;33m\u001b[0m\u001b[0m\n\u001b[0;32m      5\u001b[0m \u001b[0mdf_solution\u001b[0m\u001b[1;33m.\u001b[0m\u001b[0mreset_index\u001b[0m\u001b[1;33m(\u001b[0m\u001b[0minplace\u001b[0m \u001b[1;33m=\u001b[0m \u001b[1;32mTrue\u001b[0m\u001b[1;33m,\u001b[0m \u001b[0mdrop\u001b[0m \u001b[1;33m=\u001b[0m \u001b[1;32mTrue\u001b[0m\u001b[1;33m)\u001b[0m\u001b[1;33m\u001b[0m\u001b[1;33m\u001b[0m\u001b[0m\n\u001b[1;32m----> 6\u001b[1;33m \u001b[0mpd\u001b[0m\u001b[1;33m.\u001b[0m\u001b[0mtesting\u001b[0m\u001b[1;33m.\u001b[0m\u001b[0massert_frame_equal\u001b[0m\u001b[1;33m(\u001b[0m\u001b[0mdf\u001b[0m\u001b[1;33m,\u001b[0m \u001b[0mdf_solution\u001b[0m\u001b[1;33m)\u001b[0m\u001b[1;33m\u001b[0m\u001b[1;33m\u001b[0m\u001b[0m\n\u001b[0m",
      "    \u001b[1;31m[... skipping hidden 2 frame]\u001b[0m\n",
      "\u001b[1;32mpandas\\_libs\\testing.pyx\u001b[0m in \u001b[0;36mpandas._libs.testing.assert_almost_equal\u001b[1;34m()\u001b[0m\n",
      "\u001b[1;32mpandas\\_libs\\testing.pyx\u001b[0m in \u001b[0;36mpandas._libs.testing.assert_almost_equal\u001b[1;34m()\u001b[0m\n",
      "    \u001b[1;31m[... skipping hidden 1 frame]\u001b[0m\n",
      "\u001b[1;31mAssertionError\u001b[0m: DataFrame.iloc[:, 0] (column name=\"title\") are different\n\nDataFrame.iloc[:, 0] (column name=\"title\") values are different (3.0 %)\n[index]: [0, 1, 2, 3, 4, 5, 6, 7, 8, 9, 10, 11, 12, 13, 14, 15, 16, 17, 18, 19, 20, 21, 22, 23, 24, 25, 26, 27, 28, 29, 30, 31, 32, 33, 34, 35, 36, 37, 38, 39, 40, 41, 42, 43, 44, 45, 46, 47, 48, 49, 50, 51, 52, 53, 54, 55, 56, 57, 58, 59, 60, 61, 62, 63, 64, 65, 66, 67, 68, 69, 70, 71, 72, 73, 74, 75, 76, 77, 78, 79, 80, 81, 82, 83, 84, 85, 86, 87, 88, 89, 90, 91, 92, 93, 94, 95, 96, 97, 98, 99]\n[left]:  [12 Angry Men (Twelve Angry Men) (1957), 12 Years a Slave (2013), A Hard Day's Night (1964), A Streetcar Named Desire (1951), Alien (1979), All About Eve (1950), All Quiet on the Western Front (1930), Apocalypse Now (1979), Argo (2012), Army of Shadows (L'ArmÃ©e des ombres) (1969), Arrival (2016), Baby Driver (2017), Battleship Potemkin (1925), Bicycle Thieves (Ladri di biciclette) (1949), Boyhood (2014), Brooklyn (2015), Casablanca (1942), Citizen Kane (1941), Dr. Strangelove Or How I Learned to Stop Worrying and Love the Bomb (1964), Dunkirk (2017), E.T. The Extra-Terrestrial (1982), Finding Nemo (2003), Frankenstein (1931), Get Out (2017), Gone With the Wind (1939), Gravity (2013), Harry Potter and the Deathly Hallows - Part 2 (2011), Hell or High Water (2016), High Noon (1952), Inside Out (2015), It Happened One Night (1934), Jaws (1975), King Kong (1933), L.A. Confidential (1997), La Grande illusion (Grand Illusion) (1938), La La Land (2016), Laura (1944), Logan (2017), Mad Max: Fury Road (2015), Man on Wire (2008), Manchester by the Sea (2016), Metropolis (1927), Modern Times (1936), Moonlight (2016), M (1931), North by Northwest (1959), Nosferatu, a Symphony of Horror (Nosferatu, eine Symphonie des Grauens) (Nosferatu the Vampire) (1922), On the Waterfront (1954), Open City (1946), Pinocchio (1940), Psycho (1960), RashÃ´mon (1951), Rear Window (1954), Rebecca (1940), Repulsion (1965), Roman Holiday (1953), Rosemary's Baby (1968), Selma (2015), Seven Samurai (Shichinin no Samurai) (1956), Singin' in the Rain (1952), Skyfall (2012), Snow White and the Seven Dwarfs (1937), Spotlight (2015), Star Trek (2009), Star Wars: Episode VII - The Force Awakens (2015), Sunset Boulevard (1950), Taxi Driver (1976), The 39 Steps (1935), The 400 Blows (Les Quatre cents coups) (1959), The Adventures of Robin Hood (1938), The Babadook (2014), The Battle of Algiers (La Battaglia di Algeri) (1967), The Big Sick (2017), The Bride of Frankenstein (1935), The Cabinet of Dr. Caligari (Das Cabinet des Dr. Caligari) (1920), The Conformist (1970), The Dark Knight (2008), The Godfather, Part II (1974), The Godfather (1972), The Good, the Bad and the Ugly (1966), The Grapes of Wrath (1940), The Jungle Book (2016), The Last Picture Show (1971), The Maltese Falcon (1941), The Night of the Hunter (1955), The Philadelphia Story (1940), The Third Man (1949), The Treasure of the Sierra Madre (1948), The Wages of Fear (1953), The Wizard of Oz (1939), The Wrestler (2008), Tokyo Story (TÃ´kyÃ´ monogatari) (1953), Touch of Evil (1958), Toy Story 2 (1999), Toy Story 3 (2010), Toy Story (1995), Up (2009), Vertigo (1958), Wonder Woman (2017), Zootopia (2016)]\n[right]: [12 Angry Men (Twelve Angry Men) (1957), 12 Years a Slave (2013), A Hard Day's Night (1964), A Streetcar Named Desire (1951), Alien (1979), All About Eve (1950), All Quiet on the Western Front (1930), Apocalypse Now (1979), Argo (2012), Army of Shadows (L'Armée des ombres) (1969), Arrival (2016), Baby Driver (2017), Battleship Potemkin (1925), Bicycle Thieves (Ladri di biciclette) (1949), Boyhood (2014), Brooklyn (2015), Casablanca (1942), Citizen Kane (1941), Dr. Strangelove Or How I Learned to Stop Worrying and Love the Bomb (1964), Dunkirk (2017), E.T. The Extra-Terrestrial (1982), Finding Nemo (2003), Frankenstein (1931), Get Out (2017), Gone With the Wind (1939), Gravity (2013), Harry Potter and the Deathly Hallows - Part 2 (2011), Hell or High Water (2016), High Noon (1952), Inside Out (2015), It Happened One Night (1934), Jaws (1975), King Kong (1933), L.A. Confidential (1997), La Grande illusion (Grand Illusion) (1938), La La Land (2016), Laura (1944), Logan (2017), Mad Max: Fury Road (2015), Man on Wire (2008), Manchester by the Sea (2016), Metropolis (1927), Modern Times (1936), Moonlight (2016), M (1931), North by Northwest (1959), Nosferatu, a Symphony of Horror (Nosferatu, eine Symphonie des Grauens) (Nosferatu the Vampire) (1922), On the Waterfront (1954), Open City (1946), Pinocchio (1940), Psycho (1960), Rashômon (1951), Rear Window (1954), Rebecca (1940), Repulsion (1965), Roman Holiday (1953), Rosemary's Baby (1968), Selma (2015), Seven Samurai (Shichinin no Samurai) (1956), Singin' in the Rain (1952), Skyfall (2012), Snow White and the Seven Dwarfs (1937), Spotlight (2015), Star Trek (2009), Star Wars: Episode VII - The Force Awakens (2015), Sunset Boulevard (1950), Taxi Driver (1976), The 39 Steps (1935), The 400 Blows (Les Quatre cents coups) (1959), The Adventures of Robin Hood (1938), The Babadook (2014), The Battle of Algiers (La Battaglia di Algeri) (1967), The Big Sick (2017), The Bride of Frankenstein (1935), The Cabinet of Dr. Caligari (Das Cabinet des Dr. Caligari) (1920), The Conformist (1970), The Dark Knight (2008), The Godfather, Part II (1974), The Godfather (1972), The Good, the Bad and the Ugly (1966), The Grapes of Wrath (1940), The Jungle Book (2016), The Last Picture Show (1971), The Maltese Falcon (1941), The Night of the Hunter (1955), The Philadelphia Story (1940), The Third Man (1949), The Treasure of the Sierra Madre (1948), The Wages of Fear (1953), The Wizard of Oz (1939), The Wrestler (2008), Tokyo Story (Tôkyô monogatari) (1953), Touch of Evil (1958), Toy Story 2 (1999), Toy Story 3 (2010), Toy Story (1995), Up (2009), Vertigo (1958), Wonder Woman (2017), Zootopia (2016)]"
     ]
    }
   ],
   "source": [
    "df_solution = pd.read_pickle('df_solution.pkl')\n",
    "df.sort_values('title', inplace = True)\n",
    "df.reset_index(inplace = True, drop = True)\n",
    "df_solution.sort_values('title', inplace = True)\n",
    "df_solution.reset_index(inplace = True, drop = True)\n",
    "pd.testing.assert_frame_equal(df, df_solution)"
   ]
  }
 ],
 "metadata": {
  "kernelspec": {
   "display_name": "Python 3",
   "language": "python",
   "name": "python3"
  },
  "language_info": {
   "codemirror_mode": {
    "name": "ipython",
    "version": 3
   },
   "file_extension": ".py",
   "mimetype": "text/x-python",
   "name": "python",
   "nbconvert_exporter": "python",
   "pygments_lexer": "ipython3",
   "version": "3.8.3"
  }
 },
 "nbformat": 4,
 "nbformat_minor": 2
}
