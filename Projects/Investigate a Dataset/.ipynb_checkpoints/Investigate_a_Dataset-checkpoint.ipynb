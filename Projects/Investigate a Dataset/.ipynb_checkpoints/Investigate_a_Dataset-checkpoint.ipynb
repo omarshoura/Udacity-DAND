{
 "cells": [
  {
   "cell_type": "markdown",
   "metadata": {},
   "source": [
    "\n",
    "# Project: European Soccer Database\n",
    "\n",
    "## Table of Contents\n",
    "<ul>\n",
    "<li><a href=\"#intro\">Introduction</a></li>\n",
    "<li><a href=\"#wrangling\">Data Wrangling</a></li>\n",
    "<li><a href=\"#eda\">Exploratory Data Analysis</a></li>\n",
    "<li><a href=\"#conclusions\">Conclusions</a></li>\n",
    "</ul>"
   ]
  },
  {
   "cell_type": "markdown",
   "metadata": {},
   "source": [
    "<a id='intro'></a>\n",
    "## Introduction\n",
    "\n",
    ">In this project I will analyze the soccer database from several European countries, from 2008 to 2016. The data has been downloaded via SQLite and merged inside the tool using JOINs.\n",
    "\n",
    "> Questions: Which are the top 3 leagues that had the most wins during 2008-2016? Which teams in the 3 leagues won most of the games? Who is the most rated player? What are the attributes that contribute to the players' overall rating? What team attributes lead to the most victories?"
   ]
  },
  {
   "cell_type": "code",
   "execution_count": 64,
   "metadata": {},
   "outputs": [],
   "source": [
    "#import packages\n",
    "import pandas as pd\n",
    "import numpy as np\n",
    "import matplotlib.pyplot as plt\n",
    "% matplotlib inline\n",
    "\n"
   ]
  },
  {
   "cell_type": "markdown",
   "metadata": {},
   "source": [
    "<a id='wrangling'></a>\n",
    "## Data Wrangling\n",
    "\n",
    "\n",
    "\n",
    "### General Properties"
   ]
  },
  {
   "cell_type": "code",
   "execution_count": 65,
   "metadata": {},
   "outputs": [],
   "source": [
    "# Load your data and print out a few lines. Perform operations to inspect data\n",
    "#   types and look for instances of missing or possibly errant data.\n",
    "df_m = pd.read_csv('Matches.csv')\n",
    "df_p = pd.read_csv('Players.csv')\n",
    "df_t = pd.read_csv('Teams.csv')\n"
   ]
  },
  {
   "cell_type": "code",
   "execution_count": 66,
   "metadata": {},
   "outputs": [
    {
     "data": {
      "text/html": [
       "<div>\n",
       "<style>\n",
       "    .dataframe thead tr:only-child th {\n",
       "        text-align: right;\n",
       "    }\n",
       "\n",
       "    .dataframe thead th {\n",
       "        text-align: left;\n",
       "    }\n",
       "\n",
       "    .dataframe tbody tr th {\n",
       "        vertical-align: top;\n",
       "    }\n",
       "</style>\n",
       "<table border=\"1\" class=\"dataframe\">\n",
       "  <thead>\n",
       "    <tr style=\"text-align: right;\">\n",
       "      <th></th>\n",
       "      <th>Country</th>\n",
       "      <th>League</th>\n",
       "      <th>season</th>\n",
       "      <th>date</th>\n",
       "      <th>home_team_api_id</th>\n",
       "      <th>away_team_api_id</th>\n",
       "      <th>home_team_goal</th>\n",
       "      <th>away_team_goal</th>\n",
       "      <th>goal</th>\n",
       "      <th>shoton</th>\n",
       "      <th>shotoff</th>\n",
       "      <th>foulcommit</th>\n",
       "      <th>card</th>\n",
       "      <th>cross</th>\n",
       "      <th>corner</th>\n",
       "      <th>possession</th>\n",
       "    </tr>\n",
       "  </thead>\n",
       "  <tbody>\n",
       "    <tr>\n",
       "      <th>0</th>\n",
       "      <td>Belgium</td>\n",
       "      <td>Belgium Jupiler League</td>\n",
       "      <td>2008/2009</td>\n",
       "      <td>2008-08-16 00:00:00</td>\n",
       "      <td>4049</td>\n",
       "      <td>9996</td>\n",
       "      <td>1</td>\n",
       "      <td>2</td>\n",
       "      <td>NaN</td>\n",
       "      <td>NaN</td>\n",
       "      <td>NaN</td>\n",
       "      <td>NaN</td>\n",
       "      <td>NaN</td>\n",
       "      <td>NaN</td>\n",
       "      <td>NaN</td>\n",
       "      <td>NaN</td>\n",
       "    </tr>\n",
       "    <tr>\n",
       "      <th>1</th>\n",
       "      <td>Belgium</td>\n",
       "      <td>Belgium Jupiler League</td>\n",
       "      <td>2008/2009</td>\n",
       "      <td>2008-08-16 00:00:00</td>\n",
       "      <td>7947</td>\n",
       "      <td>9985</td>\n",
       "      <td>1</td>\n",
       "      <td>3</td>\n",
       "      <td>NaN</td>\n",
       "      <td>NaN</td>\n",
       "      <td>NaN</td>\n",
       "      <td>NaN</td>\n",
       "      <td>NaN</td>\n",
       "      <td>NaN</td>\n",
       "      <td>NaN</td>\n",
       "      <td>NaN</td>\n",
       "    </tr>\n",
       "    <tr>\n",
       "      <th>2</th>\n",
       "      <td>Belgium</td>\n",
       "      <td>Belgium Jupiler League</td>\n",
       "      <td>2008/2009</td>\n",
       "      <td>2008-08-16 00:00:00</td>\n",
       "      <td>9984</td>\n",
       "      <td>8635</td>\n",
       "      <td>0</td>\n",
       "      <td>3</td>\n",
       "      <td>NaN</td>\n",
       "      <td>NaN</td>\n",
       "      <td>NaN</td>\n",
       "      <td>NaN</td>\n",
       "      <td>NaN</td>\n",
       "      <td>NaN</td>\n",
       "      <td>NaN</td>\n",
       "      <td>NaN</td>\n",
       "    </tr>\n",
       "    <tr>\n",
       "      <th>3</th>\n",
       "      <td>Belgium</td>\n",
       "      <td>Belgium Jupiler League</td>\n",
       "      <td>2008/2009</td>\n",
       "      <td>2008-08-16 00:00:00</td>\n",
       "      <td>9999</td>\n",
       "      <td>8571</td>\n",
       "      <td>2</td>\n",
       "      <td>2</td>\n",
       "      <td>NaN</td>\n",
       "      <td>NaN</td>\n",
       "      <td>NaN</td>\n",
       "      <td>NaN</td>\n",
       "      <td>NaN</td>\n",
       "      <td>NaN</td>\n",
       "      <td>NaN</td>\n",
       "      <td>NaN</td>\n",
       "    </tr>\n",
       "    <tr>\n",
       "      <th>4</th>\n",
       "      <td>Belgium</td>\n",
       "      <td>Belgium Jupiler League</td>\n",
       "      <td>2008/2009</td>\n",
       "      <td>2008-08-16 00:00:00</td>\n",
       "      <td>10000</td>\n",
       "      <td>9994</td>\n",
       "      <td>0</td>\n",
       "      <td>0</td>\n",
       "      <td>NaN</td>\n",
       "      <td>NaN</td>\n",
       "      <td>NaN</td>\n",
       "      <td>NaN</td>\n",
       "      <td>NaN</td>\n",
       "      <td>NaN</td>\n",
       "      <td>NaN</td>\n",
       "      <td>NaN</td>\n",
       "    </tr>\n",
       "  </tbody>\n",
       "</table>\n",
       "</div>"
      ],
      "text/plain": [
       "   Country                  League     season                 date  \\\n",
       "0  Belgium  Belgium Jupiler League  2008/2009  2008-08-16 00:00:00   \n",
       "1  Belgium  Belgium Jupiler League  2008/2009  2008-08-16 00:00:00   \n",
       "2  Belgium  Belgium Jupiler League  2008/2009  2008-08-16 00:00:00   \n",
       "3  Belgium  Belgium Jupiler League  2008/2009  2008-08-16 00:00:00   \n",
       "4  Belgium  Belgium Jupiler League  2008/2009  2008-08-16 00:00:00   \n",
       "\n",
       "   home_team_api_id  away_team_api_id  home_team_goal  away_team_goal goal  \\\n",
       "0              4049              9996               1               2  NaN   \n",
       "1              7947              9985               1               3  NaN   \n",
       "2              9984              8635               0               3  NaN   \n",
       "3              9999              8571               2               2  NaN   \n",
       "4             10000              9994               0               0  NaN   \n",
       "\n",
       "  shoton shotoff foulcommit card cross corner possession  \n",
       "0    NaN     NaN        NaN  NaN   NaN    NaN        NaN  \n",
       "1    NaN     NaN        NaN  NaN   NaN    NaN        NaN  \n",
       "2    NaN     NaN        NaN  NaN   NaN    NaN        NaN  \n",
       "3    NaN     NaN        NaN  NaN   NaN    NaN        NaN  \n",
       "4    NaN     NaN        NaN  NaN   NaN    NaN        NaN  "
      ]
     },
     "execution_count": 66,
     "metadata": {},
     "output_type": "execute_result"
    }
   ],
   "source": [
    "#view first lines of Matches\n",
    "df_m.head()"
   ]
  },
  {
   "cell_type": "code",
   "execution_count": 4,
   "metadata": {},
   "outputs": [
    {
     "data": {
      "text/html": [
       "<div>\n",
       "<style>\n",
       "    .dataframe thead tr:only-child th {\n",
       "        text-align: right;\n",
       "    }\n",
       "\n",
       "    .dataframe thead th {\n",
       "        text-align: left;\n",
       "    }\n",
       "\n",
       "    .dataframe tbody tr th {\n",
       "        vertical-align: top;\n",
       "    }\n",
       "</style>\n",
       "<table border=\"1\" class=\"dataframe\">\n",
       "  <thead>\n",
       "    <tr style=\"text-align: right;\">\n",
       "      <th></th>\n",
       "      <th>player_name</th>\n",
       "      <th>birthday</th>\n",
       "      <th>height</th>\n",
       "      <th>weight</th>\n",
       "      <th>id</th>\n",
       "      <th>player_fifa_api_id</th>\n",
       "      <th>player_api_id</th>\n",
       "      <th>date</th>\n",
       "      <th>overall_rating</th>\n",
       "      <th>potential</th>\n",
       "      <th>...</th>\n",
       "      <th>vision</th>\n",
       "      <th>penalties</th>\n",
       "      <th>marking</th>\n",
       "      <th>standing_tackle</th>\n",
       "      <th>sliding_tackle</th>\n",
       "      <th>gk_diving</th>\n",
       "      <th>gk_handling</th>\n",
       "      <th>gk_kicking</th>\n",
       "      <th>gk_positioning</th>\n",
       "      <th>gk_reflexes</th>\n",
       "    </tr>\n",
       "  </thead>\n",
       "  <tbody>\n",
       "    <tr>\n",
       "      <th>0</th>\n",
       "      <td>Aaron Appindangoye</td>\n",
       "      <td>1992-02-29 00:00:00</td>\n",
       "      <td>182.88</td>\n",
       "      <td>187</td>\n",
       "      <td>1</td>\n",
       "      <td>218353</td>\n",
       "      <td>505942</td>\n",
       "      <td>2016-02-18 00:00:00</td>\n",
       "      <td>67.0</td>\n",
       "      <td>71.0</td>\n",
       "      <td>...</td>\n",
       "      <td>54.0</td>\n",
       "      <td>48.0</td>\n",
       "      <td>65.0</td>\n",
       "      <td>69.0</td>\n",
       "      <td>69.0</td>\n",
       "      <td>6.0</td>\n",
       "      <td>11.0</td>\n",
       "      <td>10.0</td>\n",
       "      <td>8.0</td>\n",
       "      <td>8.0</td>\n",
       "    </tr>\n",
       "    <tr>\n",
       "      <th>1</th>\n",
       "      <td>Aaron Cresswell</td>\n",
       "      <td>1989-12-15 00:00:00</td>\n",
       "      <td>170.18</td>\n",
       "      <td>146</td>\n",
       "      <td>2</td>\n",
       "      <td>218353</td>\n",
       "      <td>505942</td>\n",
       "      <td>2015-11-19 00:00:00</td>\n",
       "      <td>67.0</td>\n",
       "      <td>71.0</td>\n",
       "      <td>...</td>\n",
       "      <td>54.0</td>\n",
       "      <td>48.0</td>\n",
       "      <td>65.0</td>\n",
       "      <td>69.0</td>\n",
       "      <td>69.0</td>\n",
       "      <td>6.0</td>\n",
       "      <td>11.0</td>\n",
       "      <td>10.0</td>\n",
       "      <td>8.0</td>\n",
       "      <td>8.0</td>\n",
       "    </tr>\n",
       "    <tr>\n",
       "      <th>2</th>\n",
       "      <td>Aaron Doran</td>\n",
       "      <td>1991-05-13 00:00:00</td>\n",
       "      <td>170.18</td>\n",
       "      <td>163</td>\n",
       "      <td>3</td>\n",
       "      <td>218353</td>\n",
       "      <td>505942</td>\n",
       "      <td>2015-09-21 00:00:00</td>\n",
       "      <td>62.0</td>\n",
       "      <td>66.0</td>\n",
       "      <td>...</td>\n",
       "      <td>54.0</td>\n",
       "      <td>48.0</td>\n",
       "      <td>65.0</td>\n",
       "      <td>66.0</td>\n",
       "      <td>69.0</td>\n",
       "      <td>6.0</td>\n",
       "      <td>11.0</td>\n",
       "      <td>10.0</td>\n",
       "      <td>8.0</td>\n",
       "      <td>8.0</td>\n",
       "    </tr>\n",
       "    <tr>\n",
       "      <th>3</th>\n",
       "      <td>Aaron Galindo</td>\n",
       "      <td>1982-05-08 00:00:00</td>\n",
       "      <td>182.88</td>\n",
       "      <td>198</td>\n",
       "      <td>4</td>\n",
       "      <td>218353</td>\n",
       "      <td>505942</td>\n",
       "      <td>2015-03-20 00:00:00</td>\n",
       "      <td>61.0</td>\n",
       "      <td>65.0</td>\n",
       "      <td>...</td>\n",
       "      <td>53.0</td>\n",
       "      <td>47.0</td>\n",
       "      <td>62.0</td>\n",
       "      <td>63.0</td>\n",
       "      <td>66.0</td>\n",
       "      <td>5.0</td>\n",
       "      <td>10.0</td>\n",
       "      <td>9.0</td>\n",
       "      <td>7.0</td>\n",
       "      <td>7.0</td>\n",
       "    </tr>\n",
       "    <tr>\n",
       "      <th>4</th>\n",
       "      <td>Aaron Hughes</td>\n",
       "      <td>1979-11-08 00:00:00</td>\n",
       "      <td>182.88</td>\n",
       "      <td>154</td>\n",
       "      <td>5</td>\n",
       "      <td>218353</td>\n",
       "      <td>505942</td>\n",
       "      <td>2007-02-22 00:00:00</td>\n",
       "      <td>61.0</td>\n",
       "      <td>65.0</td>\n",
       "      <td>...</td>\n",
       "      <td>53.0</td>\n",
       "      <td>47.0</td>\n",
       "      <td>62.0</td>\n",
       "      <td>63.0</td>\n",
       "      <td>66.0</td>\n",
       "      <td>5.0</td>\n",
       "      <td>10.0</td>\n",
       "      <td>9.0</td>\n",
       "      <td>7.0</td>\n",
       "      <td>7.0</td>\n",
       "    </tr>\n",
       "  </tbody>\n",
       "</table>\n",
       "<p>5 rows × 46 columns</p>\n",
       "</div>"
      ],
      "text/plain": [
       "          player_name             birthday  height  weight  id  \\\n",
       "0  Aaron Appindangoye  1992-02-29 00:00:00  182.88     187   1   \n",
       "1     Aaron Cresswell  1989-12-15 00:00:00  170.18     146   2   \n",
       "2         Aaron Doran  1991-05-13 00:00:00  170.18     163   3   \n",
       "3       Aaron Galindo  1982-05-08 00:00:00  182.88     198   4   \n",
       "4        Aaron Hughes  1979-11-08 00:00:00  182.88     154   5   \n",
       "\n",
       "   player_fifa_api_id  player_api_id                 date  overall_rating  \\\n",
       "0              218353         505942  2016-02-18 00:00:00            67.0   \n",
       "1              218353         505942  2015-11-19 00:00:00            67.0   \n",
       "2              218353         505942  2015-09-21 00:00:00            62.0   \n",
       "3              218353         505942  2015-03-20 00:00:00            61.0   \n",
       "4              218353         505942  2007-02-22 00:00:00            61.0   \n",
       "\n",
       "   potential     ...      vision penalties marking  standing_tackle  \\\n",
       "0       71.0     ...        54.0      48.0    65.0             69.0   \n",
       "1       71.0     ...        54.0      48.0    65.0             69.0   \n",
       "2       66.0     ...        54.0      48.0    65.0             66.0   \n",
       "3       65.0     ...        53.0      47.0    62.0             63.0   \n",
       "4       65.0     ...        53.0      47.0    62.0             63.0   \n",
       "\n",
       "   sliding_tackle  gk_diving  gk_handling  gk_kicking  gk_positioning  \\\n",
       "0            69.0        6.0         11.0        10.0             8.0   \n",
       "1            69.0        6.0         11.0        10.0             8.0   \n",
       "2            69.0        6.0         11.0        10.0             8.0   \n",
       "3            66.0        5.0         10.0         9.0             7.0   \n",
       "4            66.0        5.0         10.0         9.0             7.0   \n",
       "\n",
       "   gk_reflexes  \n",
       "0          8.0  \n",
       "1          8.0  \n",
       "2          8.0  \n",
       "3          7.0  \n",
       "4          7.0  \n",
       "\n",
       "[5 rows x 46 columns]"
      ]
     },
     "execution_count": 4,
     "metadata": {},
     "output_type": "execute_result"
    }
   ],
   "source": [
    "#view first lines of Players\n",
    "df_p.head()"
   ]
  },
  {
   "cell_type": "code",
   "execution_count": 5,
   "metadata": {},
   "outputs": [
    {
     "data": {
      "text/html": [
       "<div>\n",
       "<style>\n",
       "    .dataframe thead tr:only-child th {\n",
       "        text-align: right;\n",
       "    }\n",
       "\n",
       "    .dataframe thead th {\n",
       "        text-align: left;\n",
       "    }\n",
       "\n",
       "    .dataframe tbody tr th {\n",
       "        vertical-align: top;\n",
       "    }\n",
       "</style>\n",
       "<table border=\"1\" class=\"dataframe\">\n",
       "  <thead>\n",
       "    <tr style=\"text-align: right;\">\n",
       "      <th></th>\n",
       "      <th>team_short_name</th>\n",
       "      <th>team_long_name</th>\n",
       "      <th>id</th>\n",
       "      <th>team_fifa_api_id</th>\n",
       "      <th>team_api_id</th>\n",
       "      <th>date</th>\n",
       "      <th>buildUpPlaySpeed</th>\n",
       "      <th>buildUpPlaySpeedClass</th>\n",
       "      <th>buildUpPlayDribbling</th>\n",
       "      <th>buildUpPlayDribblingClass</th>\n",
       "      <th>...</th>\n",
       "      <th>chanceCreationShooting</th>\n",
       "      <th>chanceCreationShootingClass</th>\n",
       "      <th>chanceCreationPositioningClass</th>\n",
       "      <th>defencePressure</th>\n",
       "      <th>defencePressureClass</th>\n",
       "      <th>defenceAggression</th>\n",
       "      <th>defenceAggressionClass</th>\n",
       "      <th>defenceTeamWidth</th>\n",
       "      <th>defenceTeamWidthClass</th>\n",
       "      <th>defenceDefenderLineClass</th>\n",
       "    </tr>\n",
       "  </thead>\n",
       "  <tbody>\n",
       "    <tr>\n",
       "      <th>0</th>\n",
       "      <td>GEN</td>\n",
       "      <td>KRC Genk</td>\n",
       "      <td>1</td>\n",
       "      <td>434</td>\n",
       "      <td>9930</td>\n",
       "      <td>2010-02-22 00:00:00</td>\n",
       "      <td>60</td>\n",
       "      <td>Balanced</td>\n",
       "      <td>NaN</td>\n",
       "      <td>Little</td>\n",
       "      <td>...</td>\n",
       "      <td>55</td>\n",
       "      <td>Normal</td>\n",
       "      <td>Organised</td>\n",
       "      <td>50</td>\n",
       "      <td>Medium</td>\n",
       "      <td>55</td>\n",
       "      <td>Press</td>\n",
       "      <td>45</td>\n",
       "      <td>Normal</td>\n",
       "      <td>Cover</td>\n",
       "    </tr>\n",
       "    <tr>\n",
       "      <th>1</th>\n",
       "      <td>BAC</td>\n",
       "      <td>Beerschot AC</td>\n",
       "      <td>2</td>\n",
       "      <td>434</td>\n",
       "      <td>9930</td>\n",
       "      <td>2014-09-19 00:00:00</td>\n",
       "      <td>52</td>\n",
       "      <td>Balanced</td>\n",
       "      <td>48.0</td>\n",
       "      <td>Normal</td>\n",
       "      <td>...</td>\n",
       "      <td>64</td>\n",
       "      <td>Normal</td>\n",
       "      <td>Organised</td>\n",
       "      <td>47</td>\n",
       "      <td>Medium</td>\n",
       "      <td>44</td>\n",
       "      <td>Press</td>\n",
       "      <td>54</td>\n",
       "      <td>Normal</td>\n",
       "      <td>Cover</td>\n",
       "    </tr>\n",
       "    <tr>\n",
       "      <th>2</th>\n",
       "      <td>ZUL</td>\n",
       "      <td>SV Zulte-Waregem</td>\n",
       "      <td>3</td>\n",
       "      <td>434</td>\n",
       "      <td>9930</td>\n",
       "      <td>2015-09-10 00:00:00</td>\n",
       "      <td>47</td>\n",
       "      <td>Balanced</td>\n",
       "      <td>41.0</td>\n",
       "      <td>Normal</td>\n",
       "      <td>...</td>\n",
       "      <td>64</td>\n",
       "      <td>Normal</td>\n",
       "      <td>Organised</td>\n",
       "      <td>47</td>\n",
       "      <td>Medium</td>\n",
       "      <td>44</td>\n",
       "      <td>Press</td>\n",
       "      <td>54</td>\n",
       "      <td>Normal</td>\n",
       "      <td>Cover</td>\n",
       "    </tr>\n",
       "    <tr>\n",
       "      <th>3</th>\n",
       "      <td>LOK</td>\n",
       "      <td>Sporting Lokeren</td>\n",
       "      <td>4</td>\n",
       "      <td>77</td>\n",
       "      <td>8485</td>\n",
       "      <td>2010-02-22 00:00:00</td>\n",
       "      <td>70</td>\n",
       "      <td>Fast</td>\n",
       "      <td>NaN</td>\n",
       "      <td>Little</td>\n",
       "      <td>...</td>\n",
       "      <td>70</td>\n",
       "      <td>Lots</td>\n",
       "      <td>Organised</td>\n",
       "      <td>60</td>\n",
       "      <td>Medium</td>\n",
       "      <td>70</td>\n",
       "      <td>Double</td>\n",
       "      <td>70</td>\n",
       "      <td>Wide</td>\n",
       "      <td>Cover</td>\n",
       "    </tr>\n",
       "    <tr>\n",
       "      <th>4</th>\n",
       "      <td>CEB</td>\n",
       "      <td>KSV Cercle Brugge</td>\n",
       "      <td>5</td>\n",
       "      <td>77</td>\n",
       "      <td>8485</td>\n",
       "      <td>2011-02-22 00:00:00</td>\n",
       "      <td>47</td>\n",
       "      <td>Balanced</td>\n",
       "      <td>NaN</td>\n",
       "      <td>Little</td>\n",
       "      <td>...</td>\n",
       "      <td>52</td>\n",
       "      <td>Normal</td>\n",
       "      <td>Organised</td>\n",
       "      <td>47</td>\n",
       "      <td>Medium</td>\n",
       "      <td>47</td>\n",
       "      <td>Press</td>\n",
       "      <td>52</td>\n",
       "      <td>Normal</td>\n",
       "      <td>Cover</td>\n",
       "    </tr>\n",
       "  </tbody>\n",
       "</table>\n",
       "<p>5 rows × 27 columns</p>\n",
       "</div>"
      ],
      "text/plain": [
       "  team_short_name     team_long_name  id  team_fifa_api_id  team_api_id  \\\n",
       "0             GEN           KRC Genk   1               434         9930   \n",
       "1             BAC       Beerschot AC   2               434         9930   \n",
       "2             ZUL   SV Zulte-Waregem   3               434         9930   \n",
       "3             LOK   Sporting Lokeren   4                77         8485   \n",
       "4             CEB  KSV Cercle Brugge   5                77         8485   \n",
       "\n",
       "                  date  buildUpPlaySpeed buildUpPlaySpeedClass  \\\n",
       "0  2010-02-22 00:00:00                60              Balanced   \n",
       "1  2014-09-19 00:00:00                52              Balanced   \n",
       "2  2015-09-10 00:00:00                47              Balanced   \n",
       "3  2010-02-22 00:00:00                70                  Fast   \n",
       "4  2011-02-22 00:00:00                47              Balanced   \n",
       "\n",
       "   buildUpPlayDribbling buildUpPlayDribblingClass           ...             \\\n",
       "0                   NaN                    Little           ...              \n",
       "1                  48.0                    Normal           ...              \n",
       "2                  41.0                    Normal           ...              \n",
       "3                   NaN                    Little           ...              \n",
       "4                   NaN                    Little           ...              \n",
       "\n",
       "   chanceCreationShooting chanceCreationShootingClass  \\\n",
       "0                      55                      Normal   \n",
       "1                      64                      Normal   \n",
       "2                      64                      Normal   \n",
       "3                      70                        Lots   \n",
       "4                      52                      Normal   \n",
       "\n",
       "  chanceCreationPositioningClass  defencePressure defencePressureClass  \\\n",
       "0                      Organised               50               Medium   \n",
       "1                      Organised               47               Medium   \n",
       "2                      Organised               47               Medium   \n",
       "3                      Organised               60               Medium   \n",
       "4                      Organised               47               Medium   \n",
       "\n",
       "   defenceAggression defenceAggressionClass  defenceTeamWidth  \\\n",
       "0                 55                  Press                45   \n",
       "1                 44                  Press                54   \n",
       "2                 44                  Press                54   \n",
       "3                 70                 Double                70   \n",
       "4                 47                  Press                52   \n",
       "\n",
       "  defenceTeamWidthClass defenceDefenderLineClass  \n",
       "0                Normal                    Cover  \n",
       "1                Normal                    Cover  \n",
       "2                Normal                    Cover  \n",
       "3                  Wide                    Cover  \n",
       "4                Normal                    Cover  \n",
       "\n",
       "[5 rows x 27 columns]"
      ]
     },
     "execution_count": 5,
     "metadata": {},
     "output_type": "execute_result"
    }
   ],
   "source": [
    "#view first lines of Teams\n",
    "df_t.head()"
   ]
  },
  {
   "cell_type": "code",
   "execution_count": 85,
   "metadata": {},
   "outputs": [
    {
     "name": "stdout",
     "output_type": "stream",
     "text": [
      "<class 'pandas.core.frame.DataFrame'>\n",
      "RangeIndex: 25979 entries, 0 to 25978\n",
      "Data columns (total 16 columns):\n",
      "Country             25979 non-null object\n",
      "League              25979 non-null object\n",
      "season              25979 non-null object\n",
      "date                25979 non-null object\n",
      "home_team_api_id    25979 non-null int64\n",
      "away_team_api_id    25979 non-null int64\n",
      "home_team_goal      25979 non-null int64\n",
      "away_team_goal      25979 non-null int64\n",
      "goal                14217 non-null object\n",
      "shoton              14217 non-null object\n",
      "shotoff             14217 non-null object\n",
      "foulcommit          14217 non-null object\n",
      "card                14217 non-null object\n",
      "cross               14217 non-null object\n",
      "corner              14217 non-null object\n",
      "possession          14217 non-null object\n",
      "dtypes: int64(4), object(12)\n",
      "memory usage: 3.2+ MB\n"
     ]
    }
   ],
   "source": [
    "#number of samples in each dataset\n",
    "df_m.info()"
   ]
  },
  {
   "cell_type": "code",
   "execution_count": 86,
   "metadata": {},
   "outputs": [
    {
     "name": "stdout",
     "output_type": "stream",
     "text": [
      "<class 'pandas.core.frame.DataFrame'>\n",
      "RangeIndex: 11060 entries, 0 to 11059\n",
      "Data columns (total 46 columns):\n",
      "player_name            11060 non-null object\n",
      "birthday               11060 non-null object\n",
      "height                 11060 non-null float64\n",
      "weight                 11060 non-null int64\n",
      "id                     11060 non-null int64\n",
      "player_fifa_api_id     11060 non-null int64\n",
      "player_api_id          11060 non-null int64\n",
      "date                   11060 non-null object\n",
      "overall_rating         11021 non-null float64\n",
      "potential              11021 non-null float64\n",
      "preferred_foot         11021 non-null object\n",
      "attacking_work_rate    10897 non-null object\n",
      "defensive_work_rate    11021 non-null object\n",
      "crossing               11021 non-null float64\n",
      "finishing              11021 non-null float64\n",
      "heading_accuracy       11021 non-null float64\n",
      "short_passing          11021 non-null float64\n",
      "volleys                10935 non-null float64\n",
      "dribbling              11021 non-null float64\n",
      "curve                  10935 non-null float64\n",
      "free_kick_accuracy     11021 non-null float64\n",
      "long_passing           11021 non-null float64\n",
      "ball_control           11021 non-null float64\n",
      "acceleration           11021 non-null float64\n",
      "sprint_speed           11021 non-null float64\n",
      "agility                10935 non-null float64\n",
      "reactions              11021 non-null float64\n",
      "balance                10935 non-null float64\n",
      "shot_power             11021 non-null float64\n",
      "jumping                10935 non-null float64\n",
      "stamina                11021 non-null float64\n",
      "strength               11021 non-null float64\n",
      "long_shots             11021 non-null float64\n",
      "aggression             11021 non-null float64\n",
      "interceptions          11021 non-null float64\n",
      "positioning            11021 non-null float64\n",
      "vision                 10935 non-null float64\n",
      "penalties              11021 non-null float64\n",
      "marking                11021 non-null float64\n",
      "standing_tackle        11021 non-null float64\n",
      "sliding_tackle         10935 non-null float64\n",
      "gk_diving              11021 non-null float64\n",
      "gk_handling            11021 non-null float64\n",
      "gk_kicking             11021 non-null float64\n",
      "gk_positioning         11021 non-null float64\n",
      "gk_reflexes            11021 non-null float64\n",
      "dtypes: float64(36), int64(4), object(6)\n",
      "memory usage: 3.9+ MB\n"
     ]
    }
   ],
   "source": [
    "df_p.info()"
   ]
  },
  {
   "cell_type": "code",
   "execution_count": 87,
   "metadata": {},
   "outputs": [
    {
     "name": "stdout",
     "output_type": "stream",
     "text": [
      "<class 'pandas.core.frame.DataFrame'>\n",
      "RangeIndex: 1458 entries, 0 to 1457\n",
      "Data columns (total 27 columns):\n",
      "team_short_name                   21 non-null object\n",
      "team_long_name                    21 non-null object\n",
      "id                                1458 non-null int64\n",
      "team_fifa_api_id                  1458 non-null int64\n",
      "team_api_id                       1458 non-null int64\n",
      "date                              1458 non-null object\n",
      "buildUpPlaySpeed                  1458 non-null int64\n",
      "buildUpPlaySpeedClass             1458 non-null object\n",
      "buildUpPlayDribbling              489 non-null float64\n",
      "buildUpPlayDribblingClass         1458 non-null object\n",
      "buildUpPlayPassing                1458 non-null int64\n",
      "buildUpPlayPassingClass           1458 non-null object\n",
      "buildUpPlayPositioningClass       1458 non-null object\n",
      "chanceCreationPassing             1458 non-null int64\n",
      "chanceCreationPassingClass        1458 non-null object\n",
      "chanceCreationCrossing            1458 non-null int64\n",
      "chanceCreationCrossingClass       1458 non-null object\n",
      "chanceCreationShooting            1458 non-null int64\n",
      "chanceCreationShootingClass       1458 non-null object\n",
      "chanceCreationPositioningClass    1458 non-null object\n",
      "defencePressure                   1458 non-null int64\n",
      "defencePressureClass              1458 non-null object\n",
      "defenceAggression                 1458 non-null int64\n",
      "defenceAggressionClass            1458 non-null object\n",
      "defenceTeamWidth                  1458 non-null int64\n",
      "defenceTeamWidthClass             1458 non-null object\n",
      "defenceDefenderLineClass          1458 non-null object\n",
      "dtypes: float64(1), int64(11), object(15)\n",
      "memory usage: 307.6+ KB\n"
     ]
    }
   ],
   "source": [
    "df_t.info()"
   ]
  },
  {
   "cell_type": "code",
   "execution_count": 27,
   "metadata": {},
   "outputs": [
    {
     "data": {
      "text/plain": [
       "0"
      ]
     },
     "execution_count": 27,
     "metadata": {},
     "output_type": "execute_result"
    }
   ],
   "source": [
    "#duplicate rows in each dataset\n",
    "sum(df_m.duplicated())"
   ]
  },
  {
   "cell_type": "code",
   "execution_count": 28,
   "metadata": {},
   "outputs": [
    {
     "data": {
      "text/plain": [
       "0"
      ]
     },
     "execution_count": 28,
     "metadata": {},
     "output_type": "execute_result"
    }
   ],
   "source": [
    "sum(df_p.duplicated())"
   ]
  },
  {
   "cell_type": "code",
   "execution_count": 29,
   "metadata": {},
   "outputs": [
    {
     "data": {
      "text/plain": [
       "0"
      ]
     },
     "execution_count": 29,
     "metadata": {},
     "output_type": "execute_result"
    }
   ],
   "source": [
    "sum(df_t.duplicated())"
   ]
  },
  {
   "cell_type": "code",
   "execution_count": 88,
   "metadata": {},
   "outputs": [
    {
     "data": {
      "text/plain": [
       "Index(['goal', 'shoton', 'shotoff', 'foulcommit', 'card', 'cross', 'corner',\n",
       "       'possession'],\n",
       "      dtype='object')"
      ]
     },
     "execution_count": 88,
     "metadata": {},
     "output_type": "execute_result"
    }
   ],
   "source": [
    "#columns that have missing values\n",
    "df_m.columns[df_m.isnull().any()]"
   ]
  },
  {
   "cell_type": "code",
   "execution_count": 3,
   "metadata": {},
   "outputs": [
    {
     "data": {
      "text/plain": [
       "Index(['overall_rating', 'potential', 'preferred_foot', 'attacking_work_rate',\n",
       "       'defensive_work_rate', 'crossing', 'finishing', 'heading_accuracy',\n",
       "       'short_passing', 'volleys', 'dribbling', 'curve', 'free_kick_accuracy',\n",
       "       'long_passing', 'ball_control', 'acceleration', 'sprint_speed',\n",
       "       'agility', 'reactions', 'balance', 'shot_power', 'jumping', 'stamina',\n",
       "       'strength', 'long_shots', 'aggression', 'interceptions', 'positioning',\n",
       "       'vision', 'penalties', 'marking', 'standing_tackle', 'sliding_tackle',\n",
       "       'gk_diving', 'gk_handling', 'gk_kicking', 'gk_positioning',\n",
       "       'gk_reflexes'],\n",
       "      dtype='object')"
      ]
     },
     "execution_count": 3,
     "metadata": {},
     "output_type": "execute_result"
    }
   ],
   "source": [
    "df_p.columns[df_p.isnull().any()]"
   ]
  },
  {
   "cell_type": "code",
   "execution_count": 32,
   "metadata": {},
   "outputs": [
    {
     "data": {
      "text/plain": [
       "Index(['team_short_name', 'team_long_name', 'buildUpPlayDribbling'], dtype='object')"
      ]
     },
     "execution_count": 32,
     "metadata": {},
     "output_type": "execute_result"
    }
   ],
   "source": [
    "df_t.columns[df_t.isnull().any()]"
   ]
  },
  {
   "cell_type": "code",
   "execution_count": 33,
   "metadata": {},
   "outputs": [
    {
     "data": {
      "text/plain": [
       "11"
      ]
     },
     "execution_count": 33,
     "metadata": {},
     "output_type": "execute_result"
    }
   ],
   "source": [
    "#count unique values of leagues in Matches\n",
    "df_m['League'].nunique()"
   ]
  },
  {
   "cell_type": "code",
   "execution_count": 34,
   "metadata": {},
   "outputs": [
    {
     "data": {
      "text/plain": [
       "8"
      ]
     },
     "execution_count": 34,
     "metadata": {},
     "output_type": "execute_result"
    }
   ],
   "source": [
    "#count of unique values of seasons\n",
    "df_m['season'].nunique()"
   ]
  },
  {
   "cell_type": "code",
   "execution_count": 35,
   "metadata": {},
   "outputs": [
    {
     "data": {
      "text/plain": [
       "10848"
      ]
     },
     "execution_count": 35,
     "metadata": {},
     "output_type": "execute_result"
    }
   ],
   "source": [
    "#count no. of unique players\n",
    "df_p['player_name'].nunique()"
   ]
  },
  {
   "cell_type": "code",
   "execution_count": 36,
   "metadata": {},
   "outputs": [
    {
     "data": {
      "text/plain": [
       "20"
      ]
     },
     "execution_count": 36,
     "metadata": {},
     "output_type": "execute_result"
    }
   ],
   "source": [
    "#count unique values of teams\n",
    "df_t['team_short_name'].nunique()"
   ]
  },
  {
   "cell_type": "code",
   "execution_count": 37,
   "metadata": {},
   "outputs": [
    {
     "data": {
      "text/plain": [
       "288"
      ]
     },
     "execution_count": 37,
     "metadata": {},
     "output_type": "execute_result"
    }
   ],
   "source": [
    "#count unique values of team id\n",
    "df_t['team_api_id'].nunique()"
   ]
  },
  {
   "cell_type": "markdown",
   "metadata": {},
   "source": [
    "In the above assessment we have found the following:\n",
    "\n",
    "    - No. of samples in each dataset: 25979 (Matches), 11060 (Players), 1458 (Teams)\n",
    "    - No. of columns in each dataset: 16 (Matches), 46 (Players), 27 (Teams)\n",
    "    - No duplicate rows found\n",
    "    - No. of columns with missing values: 8 (Matches), 38 (Players), 3 (Teams)\n",
    "    - Unique values: unique leagues 11\n",
    "                    unique seasons 8\n",
    "                    unique players 10848\n",
    "                    unique teams name 20 (the names of the teams are missing)\n",
    "                    uniqe team ids 288\n",
    "\n"
   ]
  },
  {
   "cell_type": "markdown",
   "metadata": {},
   "source": [
    "\n",
    "\n",
    "### Data Cleaning"
   ]
  },
  {
   "cell_type": "markdown",
   "metadata": {},
   "source": [
    "#### Drop Irrelevant Columns"
   ]
  },
  {
   "cell_type": "code",
   "execution_count": 67,
   "metadata": {},
   "outputs": [],
   "source": [
    "#Drop extraneous columns that are not relevant to our questions\n",
    "#columns to drop in Matches.csv: 'goal', 'shoton', 'shotoff', 'foulcommit', 'card', 'cross', 'corner', 'possession', 'date' as there is no clean data in them , only comments\n",
    "df_m.drop(['goal', 'shoton', 'shotoff', 'foulcommit', 'card', 'cross', 'corner', 'possession', 'date'], axis=1, inplace=True)"
   ]
  },
  {
   "cell_type": "code",
   "execution_count": 68,
   "metadata": {},
   "outputs": [
    {
     "data": {
      "text/html": [
       "<div>\n",
       "<style>\n",
       "    .dataframe thead tr:only-child th {\n",
       "        text-align: right;\n",
       "    }\n",
       "\n",
       "    .dataframe thead th {\n",
       "        text-align: left;\n",
       "    }\n",
       "\n",
       "    .dataframe tbody tr th {\n",
       "        vertical-align: top;\n",
       "    }\n",
       "</style>\n",
       "<table border=\"1\" class=\"dataframe\">\n",
       "  <thead>\n",
       "    <tr style=\"text-align: right;\">\n",
       "      <th></th>\n",
       "      <th>Country</th>\n",
       "      <th>League</th>\n",
       "      <th>season</th>\n",
       "      <th>home_team_api_id</th>\n",
       "      <th>away_team_api_id</th>\n",
       "      <th>home_team_goal</th>\n",
       "      <th>away_team_goal</th>\n",
       "    </tr>\n",
       "  </thead>\n",
       "  <tbody>\n",
       "    <tr>\n",
       "      <th>0</th>\n",
       "      <td>Belgium</td>\n",
       "      <td>Belgium Jupiler League</td>\n",
       "      <td>2008/2009</td>\n",
       "      <td>4049</td>\n",
       "      <td>9996</td>\n",
       "      <td>1</td>\n",
       "      <td>2</td>\n",
       "    </tr>\n",
       "  </tbody>\n",
       "</table>\n",
       "</div>"
      ],
      "text/plain": [
       "   Country                  League     season  home_team_api_id  \\\n",
       "0  Belgium  Belgium Jupiler League  2008/2009              4049   \n",
       "\n",
       "   away_team_api_id  home_team_goal  away_team_goal  \n",
       "0              9996               1               2  "
      ]
     },
     "execution_count": 68,
     "metadata": {},
     "output_type": "execute_result"
    }
   ],
   "source": [
    "#confirm changes\n",
    "df_m.head(1)"
   ]
  },
  {
   "cell_type": "code",
   "execution_count": 69,
   "metadata": {},
   "outputs": [],
   "source": [
    "#columns to drop: 'preferred foot', 'date' and 'player_fifa_api_id'\n",
    "df_p.drop(['preferred_foot', 'date', 'player_fifa_api_id'], axis=1, inplace=True)\n"
   ]
  },
  {
   "cell_type": "code",
   "execution_count": 71,
   "metadata": {},
   "outputs": [
    {
     "data": {
      "text/html": [
       "<div>\n",
       "<style>\n",
       "    .dataframe thead tr:only-child th {\n",
       "        text-align: right;\n",
       "    }\n",
       "\n",
       "    .dataframe thead th {\n",
       "        text-align: left;\n",
       "    }\n",
       "\n",
       "    .dataframe tbody tr th {\n",
       "        vertical-align: top;\n",
       "    }\n",
       "</style>\n",
       "<table border=\"1\" class=\"dataframe\">\n",
       "  <thead>\n",
       "    <tr style=\"text-align: right;\">\n",
       "      <th></th>\n",
       "      <th>player_name</th>\n",
       "      <th>birthday</th>\n",
       "      <th>height</th>\n",
       "      <th>weight</th>\n",
       "      <th>id</th>\n",
       "      <th>player_api_id</th>\n",
       "      <th>overall_rating</th>\n",
       "      <th>potential</th>\n",
       "      <th>attacking_work_rate</th>\n",
       "      <th>defensive_work_rate</th>\n",
       "      <th>...</th>\n",
       "      <th>vision</th>\n",
       "      <th>penalties</th>\n",
       "      <th>marking</th>\n",
       "      <th>standing_tackle</th>\n",
       "      <th>sliding_tackle</th>\n",
       "      <th>gk_diving</th>\n",
       "      <th>gk_handling</th>\n",
       "      <th>gk_kicking</th>\n",
       "      <th>gk_positioning</th>\n",
       "      <th>gk_reflexes</th>\n",
       "    </tr>\n",
       "  </thead>\n",
       "  <tbody>\n",
       "    <tr>\n",
       "      <th>0</th>\n",
       "      <td>Aaron Appindangoye</td>\n",
       "      <td>1992-02-29 00:00:00</td>\n",
       "      <td>182.88</td>\n",
       "      <td>187</td>\n",
       "      <td>1</td>\n",
       "      <td>505942</td>\n",
       "      <td>67.0</td>\n",
       "      <td>71.0</td>\n",
       "      <td>medium</td>\n",
       "      <td>medium</td>\n",
       "      <td>...</td>\n",
       "      <td>54.0</td>\n",
       "      <td>48.0</td>\n",
       "      <td>65.0</td>\n",
       "      <td>69.0</td>\n",
       "      <td>69.0</td>\n",
       "      <td>6.0</td>\n",
       "      <td>11.0</td>\n",
       "      <td>10.0</td>\n",
       "      <td>8.0</td>\n",
       "      <td>8.0</td>\n",
       "    </tr>\n",
       "  </tbody>\n",
       "</table>\n",
       "<p>1 rows × 43 columns</p>\n",
       "</div>"
      ],
      "text/plain": [
       "          player_name             birthday  height  weight  id  player_api_id  \\\n",
       "0  Aaron Appindangoye  1992-02-29 00:00:00  182.88     187   1         505942   \n",
       "\n",
       "   overall_rating  potential attacking_work_rate defensive_work_rate  \\\n",
       "0            67.0       71.0              medium              medium   \n",
       "\n",
       "      ...       vision  penalties  marking  standing_tackle  sliding_tackle  \\\n",
       "0     ...         54.0       48.0     65.0             69.0            69.0   \n",
       "\n",
       "   gk_diving  gk_handling  gk_kicking  gk_positioning  gk_reflexes  \n",
       "0        6.0         11.0        10.0             8.0          8.0  \n",
       "\n",
       "[1 rows x 43 columns]"
      ]
     },
     "execution_count": 71,
     "metadata": {},
     "output_type": "execute_result"
    }
   ],
   "source": [
    "df_p.head(1)"
   ]
  },
  {
   "cell_type": "code",
   "execution_count": 70,
   "metadata": {},
   "outputs": [],
   "source": [
    "#columns to drop in Teams.csv: 'team short name', 'team long name','id', 'team_fifa_api_id', 'date'\n",
    "#drop the names of the teams as the data is very innacurate, only 20 names provided out of 288\n",
    "df_t.drop(['team_short_name', 'team_long_name', 'id', 'team_fifa_api_id', 'date'], axis=1, inplace=True)"
   ]
  },
  {
   "cell_type": "code",
   "execution_count": 8,
   "metadata": {},
   "outputs": [
    {
     "data": {
      "text/html": [
       "<div>\n",
       "<style>\n",
       "    .dataframe thead tr:only-child th {\n",
       "        text-align: right;\n",
       "    }\n",
       "\n",
       "    .dataframe thead th {\n",
       "        text-align: left;\n",
       "    }\n",
       "\n",
       "    .dataframe tbody tr th {\n",
       "        vertical-align: top;\n",
       "    }\n",
       "</style>\n",
       "<table border=\"1\" class=\"dataframe\">\n",
       "  <thead>\n",
       "    <tr style=\"text-align: right;\">\n",
       "      <th></th>\n",
       "      <th>team_api_id</th>\n",
       "      <th>buildUpPlaySpeed</th>\n",
       "      <th>buildUpPlaySpeedClass</th>\n",
       "      <th>buildUpPlayDribbling</th>\n",
       "      <th>buildUpPlayDribblingClass</th>\n",
       "      <th>buildUpPlayPassing</th>\n",
       "      <th>buildUpPlayPassingClass</th>\n",
       "      <th>buildUpPlayPositioningClass</th>\n",
       "      <th>chanceCreationPassing</th>\n",
       "      <th>chanceCreationPassingClass</th>\n",
       "      <th>...</th>\n",
       "      <th>chanceCreationShooting</th>\n",
       "      <th>chanceCreationShootingClass</th>\n",
       "      <th>chanceCreationPositioningClass</th>\n",
       "      <th>defencePressure</th>\n",
       "      <th>defencePressureClass</th>\n",
       "      <th>defenceAggression</th>\n",
       "      <th>defenceAggressionClass</th>\n",
       "      <th>defenceTeamWidth</th>\n",
       "      <th>defenceTeamWidthClass</th>\n",
       "      <th>defenceDefenderLineClass</th>\n",
       "    </tr>\n",
       "  </thead>\n",
       "  <tbody>\n",
       "    <tr>\n",
       "      <th>0</th>\n",
       "      <td>9930</td>\n",
       "      <td>60</td>\n",
       "      <td>Balanced</td>\n",
       "      <td>NaN</td>\n",
       "      <td>Little</td>\n",
       "      <td>50</td>\n",
       "      <td>Mixed</td>\n",
       "      <td>Organised</td>\n",
       "      <td>60</td>\n",
       "      <td>Normal</td>\n",
       "      <td>...</td>\n",
       "      <td>55</td>\n",
       "      <td>Normal</td>\n",
       "      <td>Organised</td>\n",
       "      <td>50</td>\n",
       "      <td>Medium</td>\n",
       "      <td>55</td>\n",
       "      <td>Press</td>\n",
       "      <td>45</td>\n",
       "      <td>Normal</td>\n",
       "      <td>Cover</td>\n",
       "    </tr>\n",
       "  </tbody>\n",
       "</table>\n",
       "<p>1 rows × 22 columns</p>\n",
       "</div>"
      ],
      "text/plain": [
       "   team_api_id  buildUpPlaySpeed buildUpPlaySpeedClass  buildUpPlayDribbling  \\\n",
       "0         9930                60              Balanced                   NaN   \n",
       "\n",
       "  buildUpPlayDribblingClass  buildUpPlayPassing buildUpPlayPassingClass  \\\n",
       "0                    Little                  50                   Mixed   \n",
       "\n",
       "  buildUpPlayPositioningClass  chanceCreationPassing  \\\n",
       "0                   Organised                     60   \n",
       "\n",
       "  chanceCreationPassingClass            ...             \\\n",
       "0                     Normal            ...              \n",
       "\n",
       "   chanceCreationShooting chanceCreationShootingClass  \\\n",
       "0                      55                      Normal   \n",
       "\n",
       "   chanceCreationPositioningClass defencePressure defencePressureClass  \\\n",
       "0                       Organised              50               Medium   \n",
       "\n",
       "   defenceAggression defenceAggressionClass  defenceTeamWidth  \\\n",
       "0                 55                  Press                45   \n",
       "\n",
       "  defenceTeamWidthClass  defenceDefenderLineClass  \n",
       "0                Normal                     Cover  \n",
       "\n",
       "[1 rows x 22 columns]"
      ]
     },
     "execution_count": 8,
     "metadata": {},
     "output_type": "execute_result"
    }
   ],
   "source": [
    "df_t.head(1)"
   ]
  },
  {
   "cell_type": "markdown",
   "metadata": {},
   "source": [
    "#### Rename Columns"
   ]
  },
  {
   "cell_type": "code",
   "execution_count": 72,
   "metadata": {},
   "outputs": [
    {
     "data": {
      "text/html": [
       "<div>\n",
       "<style>\n",
       "    .dataframe thead tr:only-child th {\n",
       "        text-align: right;\n",
       "    }\n",
       "\n",
       "    .dataframe thead th {\n",
       "        text-align: left;\n",
       "    }\n",
       "\n",
       "    .dataframe tbody tr th {\n",
       "        vertical-align: top;\n",
       "    }\n",
       "</style>\n",
       "<table border=\"1\" class=\"dataframe\">\n",
       "  <thead>\n",
       "    <tr style=\"text-align: right;\">\n",
       "      <th></th>\n",
       "      <th>country</th>\n",
       "      <th>league</th>\n",
       "      <th>season</th>\n",
       "      <th>home_team_api_id</th>\n",
       "      <th>away_team_api_id</th>\n",
       "      <th>home_team_goal</th>\n",
       "      <th>away_team_goal</th>\n",
       "    </tr>\n",
       "  </thead>\n",
       "  <tbody>\n",
       "    <tr>\n",
       "      <th>0</th>\n",
       "      <td>Belgium</td>\n",
       "      <td>Belgium Jupiler League</td>\n",
       "      <td>2008/2009</td>\n",
       "      <td>4049</td>\n",
       "      <td>9996</td>\n",
       "      <td>1</td>\n",
       "      <td>2</td>\n",
       "    </tr>\n",
       "  </tbody>\n",
       "</table>\n",
       "</div>"
      ],
      "text/plain": [
       "   country                  league     season  home_team_api_id  \\\n",
       "0  Belgium  Belgium Jupiler League  2008/2009              4049   \n",
       "\n",
       "   away_team_api_id  home_team_goal  away_team_goal  \n",
       "0              9996               1               2  "
      ]
     },
     "execution_count": 72,
     "metadata": {},
     "output_type": "execute_result"
    }
   ],
   "source": [
    "#rename columns Country and League in Matches.csv and convert them to lowercase\n",
    "df_m = df_m.rename(columns = {'Country':'country', 'League':'league'})\n",
    "\n",
    "#confirm changes\n",
    "df_m.head(1)"
   ]
  },
  {
   "cell_type": "markdown",
   "metadata": {},
   "source": [
    "#### Save New Datasets"
   ]
  },
  {
   "cell_type": "code",
   "execution_count": 73,
   "metadata": {},
   "outputs": [],
   "source": [
    "#save new datasets\n",
    "df_m.to_csv('Matches_v2.csv', index=False)\n",
    "df_p.to_csv('Players_v2.csv', index=False)\n",
    "df_t.to_csv('Teams_v2.csv', index=False)"
   ]
  },
  {
   "cell_type": "markdown",
   "metadata": {},
   "source": [
    "#### Dimensions of Datasets"
   ]
  },
  {
   "cell_type": "code",
   "execution_count": 10,
   "metadata": {},
   "outputs": [
    {
     "data": {
      "text/plain": [
       "(25979, 7)"
      ]
     },
     "execution_count": 10,
     "metadata": {},
     "output_type": "execute_result"
    }
   ],
   "source": [
    "#view dimensions of Matches\n",
    "df_m.shape"
   ]
  },
  {
   "cell_type": "code",
   "execution_count": 98,
   "metadata": {},
   "outputs": [
    {
     "data": {
      "text/plain": [
       "(11060, 43)"
      ]
     },
     "execution_count": 98,
     "metadata": {},
     "output_type": "execute_result"
    }
   ],
   "source": [
    "#view dimensions of Players\n",
    "df_p.shape"
   ]
  },
  {
   "cell_type": "code",
   "execution_count": 99,
   "metadata": {},
   "outputs": [
    {
     "data": {
      "text/plain": [
       "(1458, 22)"
      ]
     },
     "execution_count": 99,
     "metadata": {},
     "output_type": "execute_result"
    }
   ],
   "source": [
    "#view dimensions of Teams\n",
    "df_t.shape"
   ]
  },
  {
   "cell_type": "markdown",
   "metadata": {},
   "source": [
    "#### Drop Missing Values"
   ]
  },
  {
   "cell_type": "code",
   "execution_count": 74,
   "metadata": {},
   "outputs": [
    {
     "name": "stdout",
     "output_type": "stream",
     "text": [
      "<class 'pandas.core.frame.DataFrame'>\n",
      "RangeIndex: 25979 entries, 0 to 25978\n",
      "Data columns (total 7 columns):\n",
      "country             25979 non-null object\n",
      "league              25979 non-null object\n",
      "season              25979 non-null object\n",
      "home_team_api_id    25979 non-null int64\n",
      "away_team_api_id    25979 non-null int64\n",
      "home_team_goal      25979 non-null int64\n",
      "away_team_goal      25979 non-null int64\n",
      "dtypes: int64(4), object(3)\n",
      "memory usage: 1.4+ MB\n"
     ]
    }
   ],
   "source": [
    "#no missing values in Matches\n",
    "df_m.info()"
   ]
  },
  {
   "cell_type": "code",
   "execution_count": 75,
   "metadata": {},
   "outputs": [
    {
     "name": "stdout",
     "output_type": "stream",
     "text": [
      "<class 'pandas.core.frame.DataFrame'>\n",
      "Int64Index: 10876 entries, 0 to 11059\n",
      "Data columns (total 43 columns):\n",
      "player_name            10876 non-null object\n",
      "birthday               10876 non-null object\n",
      "height                 10876 non-null float64\n",
      "weight                 10876 non-null int64\n",
      "id                     10876 non-null int64\n",
      "player_api_id          10876 non-null int64\n",
      "overall_rating         10876 non-null float64\n",
      "potential              10876 non-null float64\n",
      "attacking_work_rate    10876 non-null object\n",
      "defensive_work_rate    10876 non-null object\n",
      "crossing               10876 non-null float64\n",
      "finishing              10876 non-null float64\n",
      "heading_accuracy       10876 non-null float64\n",
      "short_passing          10876 non-null float64\n",
      "volleys                10876 non-null float64\n",
      "dribbling              10876 non-null float64\n",
      "curve                  10876 non-null float64\n",
      "free_kick_accuracy     10876 non-null float64\n",
      "long_passing           10876 non-null float64\n",
      "ball_control           10876 non-null float64\n",
      "acceleration           10876 non-null float64\n",
      "sprint_speed           10876 non-null float64\n",
      "agility                10876 non-null float64\n",
      "reactions              10876 non-null float64\n",
      "balance                10876 non-null float64\n",
      "shot_power             10876 non-null float64\n",
      "jumping                10876 non-null float64\n",
      "stamina                10876 non-null float64\n",
      "strength               10876 non-null float64\n",
      "long_shots             10876 non-null float64\n",
      "aggression             10876 non-null float64\n",
      "interceptions          10876 non-null float64\n",
      "positioning            10876 non-null float64\n",
      "vision                 10876 non-null float64\n",
      "penalties              10876 non-null float64\n",
      "marking                10876 non-null float64\n",
      "standing_tackle        10876 non-null float64\n",
      "sliding_tackle         10876 non-null float64\n",
      "gk_diving              10876 non-null float64\n",
      "gk_handling            10876 non-null float64\n",
      "gk_kicking             10876 non-null float64\n",
      "gk_positioning         10876 non-null float64\n",
      "gk_reflexes            10876 non-null float64\n",
      "dtypes: float64(36), int64(3), object(4)\n",
      "memory usage: 3.7+ MB\n"
     ]
    }
   ],
   "source": [
    "#drop rows with null values in Players\n",
    "df_p.dropna(axis=0, how='any', inplace=True)\n",
    "df_p.info()"
   ]
  },
  {
   "cell_type": "code",
   "execution_count": 76,
   "metadata": {},
   "outputs": [
    {
     "name": "stdout",
     "output_type": "stream",
     "text": [
      "<class 'pandas.core.frame.DataFrame'>\n",
      "Int64Index: 489 entries, 1 to 1457\n",
      "Data columns (total 22 columns):\n",
      "team_api_id                       489 non-null int64\n",
      "buildUpPlaySpeed                  489 non-null int64\n",
      "buildUpPlaySpeedClass             489 non-null object\n",
      "buildUpPlayDribbling              489 non-null float64\n",
      "buildUpPlayDribblingClass         489 non-null object\n",
      "buildUpPlayPassing                489 non-null int64\n",
      "buildUpPlayPassingClass           489 non-null object\n",
      "buildUpPlayPositioningClass       489 non-null object\n",
      "chanceCreationPassing             489 non-null int64\n",
      "chanceCreationPassingClass        489 non-null object\n",
      "chanceCreationCrossing            489 non-null int64\n",
      "chanceCreationCrossingClass       489 non-null object\n",
      "chanceCreationShooting            489 non-null int64\n",
      "chanceCreationShootingClass       489 non-null object\n",
      "chanceCreationPositioningClass    489 non-null object\n",
      "defencePressure                   489 non-null int64\n",
      "defencePressureClass              489 non-null object\n",
      "defenceAggression                 489 non-null int64\n",
      "defenceAggressionClass            489 non-null object\n",
      "defenceTeamWidth                  489 non-null int64\n",
      "defenceTeamWidthClass             489 non-null object\n",
      "defenceDefenderLineClass          489 non-null object\n",
      "dtypes: float64(1), int64(9), object(12)\n",
      "memory usage: 87.9+ KB\n"
     ]
    }
   ],
   "source": [
    "#drop rows with null values in Teams \n",
    "df_t.dropna(axis=0, how='any', inplace=True)\n",
    "df_t.info()"
   ]
  },
  {
   "cell_type": "code",
   "execution_count": 13,
   "metadata": {},
   "outputs": [
    {
     "data": {
      "text/plain": [
       "False"
      ]
     },
     "execution_count": 13,
     "metadata": {},
     "output_type": "execute_result"
    }
   ],
   "source": [
    "#check if any columns in Matches have null values\n",
    "df_m.isnull().sum().any()"
   ]
  },
  {
   "cell_type": "code",
   "execution_count": 14,
   "metadata": {},
   "outputs": [
    {
     "data": {
      "text/plain": [
       "False"
      ]
     },
     "execution_count": 14,
     "metadata": {},
     "output_type": "execute_result"
    }
   ],
   "source": [
    "#check if any columns in Players have null values\n",
    "df_p.isnull().sum().any()"
   ]
  },
  {
   "cell_type": "code",
   "execution_count": 15,
   "metadata": {},
   "outputs": [
    {
     "data": {
      "text/plain": [
       "False"
      ]
     },
     "execution_count": 15,
     "metadata": {},
     "output_type": "execute_result"
    }
   ],
   "source": [
    "#check if any columns in Teams have null values\n",
    "df_t.isnull().sum().any()"
   ]
  },
  {
   "cell_type": "markdown",
   "metadata": {},
   "source": [
    "#### Create New Columns"
   ]
  },
  {
   "cell_type": "code",
   "execution_count": 77,
   "metadata": {},
   "outputs": [
    {
     "data": {
      "text/html": [
       "<div>\n",
       "<style>\n",
       "    .dataframe thead tr:only-child th {\n",
       "        text-align: right;\n",
       "    }\n",
       "\n",
       "    .dataframe thead th {\n",
       "        text-align: left;\n",
       "    }\n",
       "\n",
       "    .dataframe tbody tr th {\n",
       "        vertical-align: top;\n",
       "    }\n",
       "</style>\n",
       "<table border=\"1\" class=\"dataframe\">\n",
       "  <thead>\n",
       "    <tr style=\"text-align: right;\">\n",
       "      <th></th>\n",
       "      <th>country</th>\n",
       "      <th>league</th>\n",
       "      <th>season</th>\n",
       "      <th>home_team_api_id</th>\n",
       "      <th>away_team_api_id</th>\n",
       "      <th>home_team_goal</th>\n",
       "      <th>away_team_goal</th>\n",
       "      <th>winner</th>\n",
       "    </tr>\n",
       "  </thead>\n",
       "  <tbody>\n",
       "    <tr>\n",
       "      <th>0</th>\n",
       "      <td>Belgium</td>\n",
       "      <td>Belgium Jupiler League</td>\n",
       "      <td>2008/2009</td>\n",
       "      <td>4049</td>\n",
       "      <td>9996</td>\n",
       "      <td>1</td>\n",
       "      <td>2</td>\n",
       "      <td>9996</td>\n",
       "    </tr>\n",
       "    <tr>\n",
       "      <th>1</th>\n",
       "      <td>Belgium</td>\n",
       "      <td>Belgium Jupiler League</td>\n",
       "      <td>2008/2009</td>\n",
       "      <td>7947</td>\n",
       "      <td>9985</td>\n",
       "      <td>1</td>\n",
       "      <td>3</td>\n",
       "      <td>9985</td>\n",
       "    </tr>\n",
       "    <tr>\n",
       "      <th>2</th>\n",
       "      <td>Belgium</td>\n",
       "      <td>Belgium Jupiler League</td>\n",
       "      <td>2008/2009</td>\n",
       "      <td>9984</td>\n",
       "      <td>8635</td>\n",
       "      <td>0</td>\n",
       "      <td>3</td>\n",
       "      <td>8635</td>\n",
       "    </tr>\n",
       "    <tr>\n",
       "      <th>3</th>\n",
       "      <td>Belgium</td>\n",
       "      <td>Belgium Jupiler League</td>\n",
       "      <td>2008/2009</td>\n",
       "      <td>9999</td>\n",
       "      <td>8571</td>\n",
       "      <td>2</td>\n",
       "      <td>2</td>\n",
       "      <td>draw</td>\n",
       "    </tr>\n",
       "    <tr>\n",
       "      <th>4</th>\n",
       "      <td>Belgium</td>\n",
       "      <td>Belgium Jupiler League</td>\n",
       "      <td>2008/2009</td>\n",
       "      <td>10000</td>\n",
       "      <td>9994</td>\n",
       "      <td>0</td>\n",
       "      <td>0</td>\n",
       "      <td>draw</td>\n",
       "    </tr>\n",
       "  </tbody>\n",
       "</table>\n",
       "</div>"
      ],
      "text/plain": [
       "   country                  league     season  home_team_api_id  \\\n",
       "0  Belgium  Belgium Jupiler League  2008/2009              4049   \n",
       "1  Belgium  Belgium Jupiler League  2008/2009              7947   \n",
       "2  Belgium  Belgium Jupiler League  2008/2009              9984   \n",
       "3  Belgium  Belgium Jupiler League  2008/2009              9999   \n",
       "4  Belgium  Belgium Jupiler League  2008/2009             10000   \n",
       "\n",
       "   away_team_api_id  home_team_goal  away_team_goal winner  \n",
       "0              9996               1               2   9996  \n",
       "1              9985               1               3   9985  \n",
       "2              8635               0               3   8635  \n",
       "3              8571               2               2   draw  \n",
       "4              9994               0               0   draw  "
      ]
     },
     "execution_count": 77,
     "metadata": {},
     "output_type": "execute_result"
    }
   ],
   "source": [
    "#create a column in Matches to see which is the winner of the match\n",
    "conditions = [(df_m['home_team_goal'] > df_m['away_team_goal']), (df_m['home_team_goal'] < df_m['away_team_goal'])]\n",
    "choices = [df_m['home_team_api_id'], df_m['away_team_api_id']]\n",
    "df_m['winner'] = np.select(conditions, choices, default='draw')\n",
    "df_m.head()"
   ]
  },
  {
   "cell_type": "code",
   "execution_count": 78,
   "metadata": {},
   "outputs": [],
   "source": [
    "#drop the rows that contain 'draw' as they are not relevant for our analysis\n",
    "df_m = df_m[df_m.winner != 'draw']\n"
   ]
  },
  {
   "cell_type": "code",
   "execution_count": 79,
   "metadata": {},
   "outputs": [],
   "source": [
    "#convert winner col to an int\n",
    "df_m['winner'] = df_m['winner'].astype(int)"
   ]
  },
  {
   "cell_type": "code",
   "execution_count": 20,
   "metadata": {},
   "outputs": [
    {
     "name": "stdout",
     "output_type": "stream",
     "text": [
      "<class 'pandas.core.frame.DataFrame'>\n",
      "Int64Index: 19383 entries, 0 to 25978\n",
      "Data columns (total 8 columns):\n",
      "country             19383 non-null object\n",
      "league              19383 non-null object\n",
      "season              19383 non-null object\n",
      "home_team_api_id    19383 non-null int64\n",
      "away_team_api_id    19383 non-null int64\n",
      "home_team_goal      19383 non-null int64\n",
      "away_team_goal      19383 non-null int64\n",
      "winner              19383 non-null int64\n",
      "dtypes: int64(5), object(3)\n",
      "memory usage: 1.3+ MB\n"
     ]
    }
   ],
   "source": [
    "#confirm changes\n",
    "df_m.info()"
   ]
  },
  {
   "cell_type": "markdown",
   "metadata": {},
   "source": [
    "#### Count Values"
   ]
  },
  {
   "cell_type": "code",
   "execution_count": 21,
   "metadata": {},
   "outputs": [
    {
     "data": {
      "text/plain": [
       "Spain LIGA BBVA             2336\n",
       "England Premier League      2257\n",
       "Italy Serie A               2221\n",
       "France Ligue 1              2181\n",
       "Netherlands Eredivisie      1867\n",
       "Germany 1. Bundesliga       1851\n",
       "Portugal Liga ZON Sagres    1519\n",
       "Poland Ekstraklasa          1395\n",
       "Scotland Premier League     1377\n",
       "Belgium Jupiler League      1303\n",
       "Switzerland Super League    1076\n",
       "Name: league, dtype: int64"
      ]
     },
     "execution_count": 21,
     "metadata": {},
     "output_type": "execute_result"
    }
   ],
   "source": [
    "#count the number of matches won by each league\n",
    "df_m['league'].value_counts()"
   ]
  },
  {
   "cell_type": "code",
   "execution_count": 22,
   "metadata": {},
   "outputs": [
    {
     "data": {
      "text/plain": [
       "Spain          2336\n",
       "England        2257\n",
       "Italy          2221\n",
       "France         2181\n",
       "Netherlands    1867\n",
       "Germany        1851\n",
       "Portugal       1519\n",
       "Poland         1395\n",
       "Scotland       1377\n",
       "Belgium        1303\n",
       "Switzerland    1076\n",
       "Name: country, dtype: int64"
      ]
     },
     "execution_count": 22,
     "metadata": {},
     "output_type": "execute_result"
    }
   ],
   "source": [
    "#count the number of matches won by each country\n",
    "df_m['country'].value_counts()"
   ]
  },
  {
   "cell_type": "markdown",
   "metadata": {},
   "source": [
    "#### Drop Columns No Longer Needed"
   ]
  },
  {
   "cell_type": "code",
   "execution_count": 80,
   "metadata": {},
   "outputs": [],
   "source": [
    "#drop home and away columns in Matches as they are no loger needed\n",
    "df_m.drop(['home_team_api_id', 'away_team_api_id', 'home_team_goal', 'away_team_goal'], axis=1, inplace=True)"
   ]
  },
  {
   "cell_type": "code",
   "execution_count": 81,
   "metadata": {},
   "outputs": [
    {
     "data": {
      "text/html": [
       "<div>\n",
       "<style>\n",
       "    .dataframe thead tr:only-child th {\n",
       "        text-align: right;\n",
       "    }\n",
       "\n",
       "    .dataframe thead th {\n",
       "        text-align: left;\n",
       "    }\n",
       "\n",
       "    .dataframe tbody tr th {\n",
       "        vertical-align: top;\n",
       "    }\n",
       "</style>\n",
       "<table border=\"1\" class=\"dataframe\">\n",
       "  <thead>\n",
       "    <tr style=\"text-align: right;\">\n",
       "      <th></th>\n",
       "      <th>country</th>\n",
       "      <th>league</th>\n",
       "      <th>season</th>\n",
       "      <th>winner</th>\n",
       "    </tr>\n",
       "  </thead>\n",
       "  <tbody>\n",
       "    <tr>\n",
       "      <th>0</th>\n",
       "      <td>Belgium</td>\n",
       "      <td>Belgium Jupiler League</td>\n",
       "      <td>2008/2009</td>\n",
       "      <td>9996</td>\n",
       "    </tr>\n",
       "  </tbody>\n",
       "</table>\n",
       "</div>"
      ],
      "text/plain": [
       "   country                  league     season  winner\n",
       "0  Belgium  Belgium Jupiler League  2008/2009    9996"
      ]
     },
     "execution_count": 81,
     "metadata": {},
     "output_type": "execute_result"
    }
   ],
   "source": [
    "#confirm changes\n",
    "df_m.head(1)"
   ]
  },
  {
   "cell_type": "code",
   "execution_count": 82,
   "metadata": {},
   "outputs": [],
   "source": [
    "#save dataset\n",
    "df_m.to_csv('Matches_v2.csv', index=False)"
   ]
  },
  {
   "cell_type": "markdown",
   "metadata": {},
   "source": [
    "<a id='eda'></a>\n",
    "## Exploratory Data Analysis\n",
    "\n",
    "\n",
    "### Which are the top 3 leagues that had the most wins during 2008-2016?"
   ]
  },
  {
   "cell_type": "code",
   "execution_count": 145,
   "metadata": {},
   "outputs": [
    {
     "data": {
      "text/plain": [
       "Spain LIGA BBVA             2336\n",
       "England Premier League      2257\n",
       "Italy Serie A               2221\n",
       "France Ligue 1              2181\n",
       "Netherlands Eredivisie      1867\n",
       "Germany 1. Bundesliga       1851\n",
       "Portugal Liga ZON Sagres    1519\n",
       "Poland Ekstraklasa          1395\n",
       "Scotland Premier League     1377\n",
       "Belgium Jupiler League      1303\n",
       "Switzerland Super League    1076\n",
       "Name: league, dtype: int64"
      ]
     },
     "execution_count": 145,
     "metadata": {},
     "output_type": "execute_result"
    }
   ],
   "source": [
    "#count the number of wins by league\n",
    "df_m['league'].value_counts()"
   ]
  },
  {
   "cell_type": "code",
   "execution_count": 83,
   "metadata": {},
   "outputs": [
    {
     "data": {
      "text/plain": [
       "Text(0,0.5,'Wins')"
      ]
     },
     "execution_count": 83,
     "metadata": {},
     "output_type": "execute_result"
    },
    {
     "data": {
      "image/png": "[encoded data removed]",
      "text/plain": [
       "<matplotlib.figure.Figure at 0x7f94db34be80>"
      ]
     },
     "metadata": {},
     "output_type": "display_data"
    }
   ],
   "source": [
    "#plot the overall wins\n",
    "df_m.groupby('league')['winner'].count().plot(kind='bar', title='Overall Wins');\n",
    "plt.xlabel('Leagues')\n",
    "plt.ylabel('Wins')"
   ]
  },
  {
   "cell_type": "markdown",
   "metadata": {},
   "source": [
    "Spain LIGA BBVA is the 1st with the highest number of wins, 2336.\n",
    "England Premier League is the 2nd with 2257 wins.\n",
    "Italy Serie A is the 3rd in rank with 2221 wins."
   ]
  },
  {
   "cell_type": "markdown",
   "metadata": {},
   "source": [
    "### Which teams in the 3 leagues won most of the games?"
   ]
  },
  {
   "cell_type": "code",
   "execution_count": 84,
   "metadata": {},
   "outputs": [
    {
     "data": {
      "text/plain": [
       "8634     234\n",
       "8633     228\n",
       "9906     167\n",
       "10267    142\n",
       "8302     139\n",
       "8315     122\n",
       "10205    112\n",
       "9864     106\n",
       "8558      97\n",
       "8305      94\n",
       "8560      84\n",
       "8581      69\n",
       "8661      67\n",
       "8371      67\n",
       "8370      66\n",
       "9783      62\n",
       "8603      56\n",
       "9869      54\n",
       "9910      54\n",
       "7878      52\n",
       "9865      48\n",
       "8394      43\n",
       "10281     37\n",
       "8696      37\n",
       "8372      20\n",
       "10268     20\n",
       "8306      12\n",
       "8388      10\n",
       "9867       9\n",
       "10278      9\n",
       "8479       8\n",
       "9868       8\n",
       "7869       3\n",
       "Name: winner, dtype: int64"
      ]
     },
     "execution_count": 84,
     "metadata": {},
     "output_type": "execute_result"
    }
   ],
   "source": [
    "#filter on the league that had the most wins and find the team\n",
    "spain = df_m.query('country == \"Spain\"')\n",
    "spain['winner'].value_counts()"
   ]
  },
  {
   "cell_type": "code",
   "execution_count": 27,
   "metadata": {},
   "outputs": [
    {
     "data": {
      "text/plain": [
       "10260    192\n",
       "8455     176\n",
       "8456     175\n",
       "9825     170\n",
       "8586     151\n",
       "8650     150\n",
       "8668     121\n",
       "10194     98\n",
       "10252     86\n",
       "10261     82\n",
       "8654      80\n",
       "8472      78\n",
       "8659      75\n",
       "9879      71\n",
       "10003     62\n",
       "8466      60\n",
       "8528      50\n",
       "8559      43\n",
       "8655      42\n",
       "9850      39\n",
       "9826      37\n",
       "8197      34\n",
       "8667      32\n",
       "8602      25\n",
       "10172     22\n",
       "8658      21\n",
       "8462      17\n",
       "8191      15\n",
       "9817      12\n",
       "8678      11\n",
       "8483      10\n",
       "8549       7\n",
       "8344       7\n",
       "9798       6\n",
       "Name: winner, dtype: int64"
      ]
     },
     "execution_count": 27,
     "metadata": {},
     "output_type": "execute_result"
    }
   ],
   "source": [
    "#find the team in the 2nd league ranked\n",
    "england = df_m.query('country == \"England\"')\n",
    "england['winner'].value_counts()"
   ]
  },
  {
   "cell_type": "code",
   "execution_count": 28,
   "metadata": {},
   "outputs": [
    {
     "data": {
      "text/plain": [
       "9885      189\n",
       "8686      162\n",
       "8564      154\n",
       "8636      154\n",
       "9875      153\n",
       "8535      132\n",
       "8543      131\n",
       "8600      115\n",
       "10233     106\n",
       "8540       91\n",
       "8533       87\n",
       "9882       84\n",
       "8524       79\n",
       "8529       76\n",
       "10167      74\n",
       "9857       68\n",
       "8530       67\n",
       "9804       57\n",
       "7943       37\n",
       "8551       37\n",
       "9876       32\n",
       "9888       24\n",
       "8534       20\n",
       "9880       19\n",
       "9976       18\n",
       "8537       13\n",
       "208931      9\n",
       "9891        8\n",
       "9858        7\n",
       "8690        6\n",
       "9878        6\n",
       "6269        6\n",
       "Name: winner, dtype: int64"
      ]
     },
     "execution_count": 28,
     "metadata": {},
     "output_type": "execute_result"
    }
   ],
   "source": [
    "#find the team in the 3rd league ranked\n",
    "italy = df_m.query('country == \"Italy\"')\n",
    "italy['winner'].value_counts()"
   ]
  },
  {
   "cell_type": "markdown",
   "metadata": {},
   "source": [
    "1st team in Spain won 234 the games, 1st team in England won 192 games, 1st team in Italy won 189 games."
   ]
  },
  {
   "cell_type": "markdown",
   "metadata": {},
   "source": [
    "### Who is the most rated player?"
   ]
  },
  {
   "cell_type": "code",
   "execution_count": 146,
   "metadata": {},
   "outputs": [
    {
     "data": {
      "text/html": [
       "<div>\n",
       "<style>\n",
       "    .dataframe thead tr:only-child th {\n",
       "        text-align: right;\n",
       "    }\n",
       "\n",
       "    .dataframe thead th {\n",
       "        text-align: left;\n",
       "    }\n",
       "\n",
       "    .dataframe tbody tr th {\n",
       "        vertical-align: top;\n",
       "    }\n",
       "</style>\n",
       "<table border=\"1\" class=\"dataframe\">\n",
       "  <thead>\n",
       "    <tr style=\"text-align: right;\">\n",
       "      <th></th>\n",
       "      <th>player_name</th>\n",
       "      <th>birthday</th>\n",
       "      <th>height</th>\n",
       "      <th>weight</th>\n",
       "      <th>id</th>\n",
       "      <th>player_api_id</th>\n",
       "      <th>overall_rating</th>\n",
       "      <th>potential</th>\n",
       "      <th>attacking_work_rate</th>\n",
       "      <th>defensive_work_rate</th>\n",
       "      <th>...</th>\n",
       "      <th>vision</th>\n",
       "      <th>penalties</th>\n",
       "      <th>marking</th>\n",
       "      <th>standing_tackle</th>\n",
       "      <th>sliding_tackle</th>\n",
       "      <th>gk_diving</th>\n",
       "      <th>gk_handling</th>\n",
       "      <th>gk_kicking</th>\n",
       "      <th>gk_positioning</th>\n",
       "      <th>gk_reflexes</th>\n",
       "    </tr>\n",
       "  </thead>\n",
       "  <tbody>\n",
       "    <tr>\n",
       "      <th>0</th>\n",
       "      <td>Aaron Appindangoye</td>\n",
       "      <td>1992-02-29 00:00:00</td>\n",
       "      <td>182.88</td>\n",
       "      <td>187</td>\n",
       "      <td>1</td>\n",
       "      <td>505942</td>\n",
       "      <td>67.0</td>\n",
       "      <td>71.0</td>\n",
       "      <td>medium</td>\n",
       "      <td>medium</td>\n",
       "      <td>...</td>\n",
       "      <td>54.0</td>\n",
       "      <td>48.0</td>\n",
       "      <td>65.0</td>\n",
       "      <td>69.0</td>\n",
       "      <td>69.0</td>\n",
       "      <td>6.0</td>\n",
       "      <td>11.0</td>\n",
       "      <td>10.0</td>\n",
       "      <td>8.0</td>\n",
       "      <td>8.0</td>\n",
       "    </tr>\n",
       "    <tr>\n",
       "      <th>1</th>\n",
       "      <td>Aaron Cresswell</td>\n",
       "      <td>1989-12-15 00:00:00</td>\n",
       "      <td>170.18</td>\n",
       "      <td>146</td>\n",
       "      <td>2</td>\n",
       "      <td>505942</td>\n",
       "      <td>67.0</td>\n",
       "      <td>71.0</td>\n",
       "      <td>medium</td>\n",
       "      <td>medium</td>\n",
       "      <td>...</td>\n",
       "      <td>54.0</td>\n",
       "      <td>48.0</td>\n",
       "      <td>65.0</td>\n",
       "      <td>69.0</td>\n",
       "      <td>69.0</td>\n",
       "      <td>6.0</td>\n",
       "      <td>11.0</td>\n",
       "      <td>10.0</td>\n",
       "      <td>8.0</td>\n",
       "      <td>8.0</td>\n",
       "    </tr>\n",
       "    <tr>\n",
       "      <th>2</th>\n",
       "      <td>Aaron Doran</td>\n",
       "      <td>1991-05-13 00:00:00</td>\n",
       "      <td>170.18</td>\n",
       "      <td>163</td>\n",
       "      <td>3</td>\n",
       "      <td>505942</td>\n",
       "      <td>62.0</td>\n",
       "      <td>66.0</td>\n",
       "      <td>medium</td>\n",
       "      <td>medium</td>\n",
       "      <td>...</td>\n",
       "      <td>54.0</td>\n",
       "      <td>48.0</td>\n",
       "      <td>65.0</td>\n",
       "      <td>66.0</td>\n",
       "      <td>69.0</td>\n",
       "      <td>6.0</td>\n",
       "      <td>11.0</td>\n",
       "      <td>10.0</td>\n",
       "      <td>8.0</td>\n",
       "      <td>8.0</td>\n",
       "    </tr>\n",
       "    <tr>\n",
       "      <th>3</th>\n",
       "      <td>Aaron Galindo</td>\n",
       "      <td>1982-05-08 00:00:00</td>\n",
       "      <td>182.88</td>\n",
       "      <td>198</td>\n",
       "      <td>4</td>\n",
       "      <td>505942</td>\n",
       "      <td>61.0</td>\n",
       "      <td>65.0</td>\n",
       "      <td>medium</td>\n",
       "      <td>medium</td>\n",
       "      <td>...</td>\n",
       "      <td>53.0</td>\n",
       "      <td>47.0</td>\n",
       "      <td>62.0</td>\n",
       "      <td>63.0</td>\n",
       "      <td>66.0</td>\n",
       "      <td>5.0</td>\n",
       "      <td>10.0</td>\n",
       "      <td>9.0</td>\n",
       "      <td>7.0</td>\n",
       "      <td>7.0</td>\n",
       "    </tr>\n",
       "    <tr>\n",
       "      <th>4</th>\n",
       "      <td>Aaron Hughes</td>\n",
       "      <td>1979-11-08 00:00:00</td>\n",
       "      <td>182.88</td>\n",
       "      <td>154</td>\n",
       "      <td>5</td>\n",
       "      <td>505942</td>\n",
       "      <td>61.0</td>\n",
       "      <td>65.0</td>\n",
       "      <td>medium</td>\n",
       "      <td>medium</td>\n",
       "      <td>...</td>\n",
       "      <td>53.0</td>\n",
       "      <td>47.0</td>\n",
       "      <td>62.0</td>\n",
       "      <td>63.0</td>\n",
       "      <td>66.0</td>\n",
       "      <td>5.0</td>\n",
       "      <td>10.0</td>\n",
       "      <td>9.0</td>\n",
       "      <td>7.0</td>\n",
       "      <td>7.0</td>\n",
       "    </tr>\n",
       "  </tbody>\n",
       "</table>\n",
       "<p>5 rows × 43 columns</p>\n",
       "</div>"
      ],
      "text/plain": [
       "          player_name             birthday  height  weight  id  player_api_id  \\\n",
       "0  Aaron Appindangoye  1992-02-29 00:00:00  182.88     187   1         505942   \n",
       "1     Aaron Cresswell  1989-12-15 00:00:00  170.18     146   2         505942   \n",
       "2         Aaron Doran  1991-05-13 00:00:00  170.18     163   3         505942   \n",
       "3       Aaron Galindo  1982-05-08 00:00:00  182.88     198   4         505942   \n",
       "4        Aaron Hughes  1979-11-08 00:00:00  182.88     154   5         505942   \n",
       "\n",
       "   overall_rating  potential attacking_work_rate defensive_work_rate  \\\n",
       "0            67.0       71.0              medium              medium   \n",
       "1            67.0       71.0              medium              medium   \n",
       "2            62.0       66.0              medium              medium   \n",
       "3            61.0       65.0              medium              medium   \n",
       "4            61.0       65.0              medium              medium   \n",
       "\n",
       "      ...       vision  penalties  marking  standing_tackle  sliding_tackle  \\\n",
       "0     ...         54.0       48.0     65.0             69.0            69.0   \n",
       "1     ...         54.0       48.0     65.0             69.0            69.0   \n",
       "2     ...         54.0       48.0     65.0             66.0            69.0   \n",
       "3     ...         53.0       47.0     62.0             63.0            66.0   \n",
       "4     ...         53.0       47.0     62.0             63.0            66.0   \n",
       "\n",
       "   gk_diving  gk_handling  gk_kicking  gk_positioning  gk_reflexes  \n",
       "0        6.0         11.0        10.0             8.0          8.0  \n",
       "1        6.0         11.0        10.0             8.0          8.0  \n",
       "2        6.0         11.0        10.0             8.0          8.0  \n",
       "3        5.0         10.0         9.0             7.0          7.0  \n",
       "4        5.0         10.0         9.0             7.0          7.0  \n",
       "\n",
       "[5 rows x 43 columns]"
      ]
     },
     "execution_count": 146,
     "metadata": {},
     "output_type": "execute_result"
    }
   ],
   "source": [
    "df_p.head()"
   ]
  },
  {
   "cell_type": "code",
   "execution_count": 37,
   "metadata": {},
   "outputs": [
    {
     "data": {
      "text/plain": [
       "68.571993379919093"
      ]
     },
     "execution_count": 37,
     "metadata": {},
     "output_type": "execute_result"
    }
   ],
   "source": [
    "#average rating\n",
    "df_p['overall_rating'].mean()"
   ]
  },
  {
   "cell_type": "code",
   "execution_count": 48,
   "metadata": {},
   "outputs": [
    {
     "data": {
      "text/plain": [
       "5700"
      ]
     },
     "execution_count": 48,
     "metadata": {},
     "output_type": "execute_result"
    }
   ],
   "source": [
    "#count players above average rating\n",
    "above = df_p.query('overall_rating > overall_rating.mean()')\n",
    "above['overall_rating'].count()"
   ]
  },
  {
   "cell_type": "code",
   "execution_count": 49,
   "metadata": {},
   "outputs": [
    {
     "data": {
      "text/plain": [
       "5176"
      ]
     },
     "execution_count": 49,
     "metadata": {},
     "output_type": "execute_result"
    }
   ],
   "source": [
    "#count players below average rating\n",
    "below = df_p.query('overall_rating < overall_rating.mean()')\n",
    "below['overall_rating'].count()"
   ]
  },
  {
   "cell_type": "code",
   "execution_count": 50,
   "metadata": {},
   "outputs": [
    {
     "data": {
      "text/plain": [
       "player_name            dos Santos Fabio Junior\n",
       "birthday                   1999-01-23 00:00:00\n",
       "height                                   203.2\n",
       "weight                                     225\n",
       "id                                       11075\n",
       "player_fifa_api_id                      231691\n",
       "player_api_id                           698273\n",
       "date                       2016-07-07 00:00:00\n",
       "overall_rating                              91\n",
       "potential                                   93\n",
       "preferred_foot                           right\n",
       "attacking_work_rate                       norm\n",
       "defensive_work_rate                      ormal\n",
       "crossing                                    92\n",
       "finishing                                   93\n",
       "heading_accuracy                            93\n",
       "short_passing                               92\n",
       "volleys                                     87\n",
       "dribbling                                   94\n",
       "curve                                       90\n",
       "free_kick_accuracy                          96\n",
       "long_passing                                87\n",
       "ball_control                                94\n",
       "acceleration                                96\n",
       "sprint_speed                                95\n",
       "agility                                     95\n",
       "reactions                                   90\n",
       "balance                                     95\n",
       "shot_power                                  96\n",
       "jumping                                     93\n",
       "stamina                                     94\n",
       "strength                                    95\n",
       "long_shots                                  93\n",
       "aggression                                  94\n",
       "interceptions                               93\n",
       "positioning                                 95\n",
       "vision                                      90\n",
       "penalties                                   94\n",
       "marking                                     94\n",
       "standing_tackle                             95\n",
       "sliding_tackle                              90\n",
       "gk_diving                                   83\n",
       "gk_handling                                 82\n",
       "gk_kicking                                  86\n",
       "gk_positioning                              82\n",
       "gk_reflexes                                 86\n",
       "dtype: object"
      ]
     },
     "execution_count": 50,
     "metadata": {},
     "output_type": "execute_result"
    }
   ],
   "source": [
    "#the most rated player\n",
    "above.max()"
   ]
  },
  {
   "cell_type": "markdown",
   "metadata": {},
   "source": [
    "The most rated player is dos Santos Fabio Junior with a 91 overall rating."
   ]
  },
  {
   "cell_type": "markdown",
   "metadata": {},
   "source": [
    "### What are the attributes that contribute to the players' overall rating?"
   ]
  },
  {
   "cell_type": "code",
   "execution_count": 27,
   "metadata": {},
   "outputs": [
    {
     "data": {
      "image/png": "[encoded data removed]",
      "text/plain": [
       "<matplotlib.figure.Figure at 0x7fcbb7d16550>"
      ]
     },
     "metadata": {},
     "output_type": "display_data"
    }
   ],
   "source": [
    "#relationship between rating and heading accuracy\n",
    "df_p.plot(x='heading_accuracy', y='overall_rating', kind='scatter');"
   ]
  },
  {
   "cell_type": "markdown",
   "metadata": {},
   "source": [
    "There is a positive correlation between heading accuracy and overall rating."
   ]
  },
  {
   "cell_type": "code",
   "execution_count": 161,
   "metadata": {},
   "outputs": [
    {
     "data": {
      "image/png": "[encoded data removed]",
      "text/plain": [
       "<matplotlib.figure.Figure at 0x7fa338256860>"
      ]
     },
     "metadata": {},
     "output_type": "display_data"
    }
   ],
   "source": [
    "#relationship between rating and free kick accuracy\n",
    "df_p.plot(x='free_kick_accuracy', y='overall_rating', kind='scatter');"
   ]
  },
  {
   "cell_type": "markdown",
   "metadata": {},
   "source": [
    "Free kick accuracy doesn't have a strong impact in overall rating."
   ]
  },
  {
   "cell_type": "code",
   "execution_count": 162,
   "metadata": {},
   "outputs": [
    {
     "data": {
      "image/png": "[encoded data removed]",
      "text/plain": [
       "<matplotlib.figure.Figure at 0x7fa338001cf8>"
      ]
     },
     "metadata": {},
     "output_type": "display_data"
    }
   ],
   "source": [
    "#relationship between rating and ball control\n",
    "df_p.plot(x='ball_control', y='overall_rating', kind='scatter');"
   ]
  },
  {
   "cell_type": "markdown",
   "metadata": {},
   "source": [
    "There is a strong positive correlation between overall rating and ball control."
   ]
  },
  {
   "cell_type": "code",
   "execution_count": 163,
   "metadata": {},
   "outputs": [
    {
     "data": {
      "image/png": "[encoded data removed]",
      "text/plain": [
       "<matplotlib.figure.Figure at 0x7fa337d1bd30>"
      ]
     },
     "metadata": {},
     "output_type": "display_data"
    }
   ],
   "source": [
    "#relationship between rating and sprint speed\n",
    "df_p.plot(x='sprint_speed', y='overall_rating', kind='scatter');"
   ]
  },
  {
   "cell_type": "markdown",
   "metadata": {},
   "source": [
    "Strong positive correlation between overall rating and sprint speed."
   ]
  },
  {
   "cell_type": "code",
   "execution_count": 164,
   "metadata": {},
   "outputs": [
    {
     "data": {
      "image/png": "[encoded data removed]",
      "text/plain": [
       "<matplotlib.figure.Figure at 0x7fa337c99588>"
      ]
     },
     "metadata": {},
     "output_type": "display_data"
    }
   ],
   "source": [
    "#relationship between rating and long shots\n",
    "df_p.plot(x='long_shots', y='overall_rating', kind='scatter');"
   ]
  },
  {
   "cell_type": "markdown",
   "metadata": {},
   "source": [
    "Positive correlation between long shots and overall rating."
   ]
  },
  {
   "cell_type": "code",
   "execution_count": 165,
   "metadata": {},
   "outputs": [
    {
     "data": {
      "image/png": "[encoded data removed]",
      "text/plain": [
       "<matplotlib.figure.Figure at 0x7fa337cc24a8>"
      ]
     },
     "metadata": {},
     "output_type": "display_data"
    }
   ],
   "source": [
    "#relationship between rating and shot power\n",
    "df_p.plot(x='shot_power', y='overall_rating', kind='scatter');"
   ]
  },
  {
   "cell_type": "markdown",
   "metadata": {},
   "source": [
    "Strong correlation between shot power and overall rating."
   ]
  },
  {
   "cell_type": "code",
   "execution_count": 166,
   "metadata": {},
   "outputs": [
    {
     "data": {
      "image/png": "[encoded data removed]",
      "text/plain": [
       "<matplotlib.figure.Figure at 0x7fa3378a8a20>"
      ]
     },
     "metadata": {},
     "output_type": "display_data"
    }
   ],
   "source": [
    "#relationship between rating and marking\n",
    "df_p.plot(x='marking', y='overall_rating', kind='scatter');"
   ]
  },
  {
   "cell_type": "markdown",
   "metadata": {},
   "source": [
    "We can't say there is a positive correlation between marking and overall rating."
   ]
  },
  {
   "cell_type": "code",
   "execution_count": 31,
   "metadata": {},
   "outputs": [
    {
     "data": {
      "image/png": "[encoded data removed]",
      "text/plain": [
       "<matplotlib.figure.Figure at 0x7fcbb55d8828>"
      ]
     },
     "metadata": {},
     "output_type": "display_data"
    }
   ],
   "source": [
    "#relationship between rating and dribbling\n",
    "df_p.plot(x='dribbling', y='overall_rating', kind='scatter');"
   ]
  },
  {
   "cell_type": "markdown",
   "metadata": {},
   "source": [
    "Strong positive correlation between overall rating and dribbling."
   ]
  },
  {
   "cell_type": "code",
   "execution_count": 32,
   "metadata": {},
   "outputs": [
    {
     "data": {
      "image/png": "[encoded data removed]",
      "text/plain": [
       "<matplotlib.figure.Figure at 0x7fcbb560db38>"
      ]
     },
     "metadata": {},
     "output_type": "display_data"
    }
   ],
   "source": [
    "#relationship between rating and strength\n",
    "df_p.plot(x='strength', y='overall_rating', kind='scatter');"
   ]
  },
  {
   "cell_type": "markdown",
   "metadata": {},
   "source": [
    "Strong positive correlation between strength and overall rating."
   ]
  },
  {
   "cell_type": "markdown",
   "metadata": {},
   "source": [
    "#### The attributes that count towards overall rating of the players are: heading accuracy, ball control, sprint speed, long shots, shot power, dribbling and strength."
   ]
  },
  {
   "cell_type": "markdown",
   "metadata": {},
   "source": [
    "### What team attributes lead to the most victories?"
   ]
  },
  {
   "cell_type": "code",
   "execution_count": 33,
   "metadata": {},
   "outputs": [
    {
     "data": {
      "text/html": [
       "<div>\n",
       "<style>\n",
       "    .dataframe thead tr:only-child th {\n",
       "        text-align: right;\n",
       "    }\n",
       "\n",
       "    .dataframe thead th {\n",
       "        text-align: left;\n",
       "    }\n",
       "\n",
       "    .dataframe tbody tr th {\n",
       "        vertical-align: top;\n",
       "    }\n",
       "</style>\n",
       "<table border=\"1\" class=\"dataframe\">\n",
       "  <thead>\n",
       "    <tr style=\"text-align: right;\">\n",
       "      <th></th>\n",
       "      <th>team_api_id</th>\n",
       "      <th>buildUpPlaySpeed</th>\n",
       "      <th>buildUpPlaySpeedClass</th>\n",
       "      <th>buildUpPlayDribbling</th>\n",
       "      <th>buildUpPlayDribblingClass</th>\n",
       "      <th>buildUpPlayPassing</th>\n",
       "      <th>buildUpPlayPassingClass</th>\n",
       "      <th>buildUpPlayPositioningClass</th>\n",
       "      <th>chanceCreationPassing</th>\n",
       "      <th>chanceCreationPassingClass</th>\n",
       "      <th>...</th>\n",
       "      <th>chanceCreationShooting</th>\n",
       "      <th>chanceCreationShootingClass</th>\n",
       "      <th>chanceCreationPositioningClass</th>\n",
       "      <th>defencePressure</th>\n",
       "      <th>defencePressureClass</th>\n",
       "      <th>defenceAggression</th>\n",
       "      <th>defenceAggressionClass</th>\n",
       "      <th>defenceTeamWidth</th>\n",
       "      <th>defenceTeamWidthClass</th>\n",
       "      <th>defenceDefenderLineClass</th>\n",
       "    </tr>\n",
       "  </thead>\n",
       "  <tbody>\n",
       "    <tr>\n",
       "      <th>1</th>\n",
       "      <td>9930</td>\n",
       "      <td>52</td>\n",
       "      <td>Balanced</td>\n",
       "      <td>48.0</td>\n",
       "      <td>Normal</td>\n",
       "      <td>56</td>\n",
       "      <td>Mixed</td>\n",
       "      <td>Organised</td>\n",
       "      <td>54</td>\n",
       "      <td>Normal</td>\n",
       "      <td>...</td>\n",
       "      <td>64</td>\n",
       "      <td>Normal</td>\n",
       "      <td>Organised</td>\n",
       "      <td>47</td>\n",
       "      <td>Medium</td>\n",
       "      <td>44</td>\n",
       "      <td>Press</td>\n",
       "      <td>54</td>\n",
       "      <td>Normal</td>\n",
       "      <td>Cover</td>\n",
       "    </tr>\n",
       "  </tbody>\n",
       "</table>\n",
       "<p>1 rows × 22 columns</p>\n",
       "</div>"
      ],
      "text/plain": [
       "   team_api_id  buildUpPlaySpeed buildUpPlaySpeedClass  buildUpPlayDribbling  \\\n",
       "1         9930                52              Balanced                  48.0   \n",
       "\n",
       "  buildUpPlayDribblingClass  buildUpPlayPassing buildUpPlayPassingClass  \\\n",
       "1                    Normal                  56                   Mixed   \n",
       "\n",
       "  buildUpPlayPositioningClass  chanceCreationPassing  \\\n",
       "1                   Organised                     54   \n",
       "\n",
       "  chanceCreationPassingClass            ...             \\\n",
       "1                     Normal            ...              \n",
       "\n",
       "   chanceCreationShooting chanceCreationShootingClass  \\\n",
       "1                      64                      Normal   \n",
       "\n",
       "   chanceCreationPositioningClass defencePressure defencePressureClass  \\\n",
       "1                       Organised              47               Medium   \n",
       "\n",
       "   defenceAggression defenceAggressionClass  defenceTeamWidth  \\\n",
       "1                 44                  Press                54   \n",
       "\n",
       "  defenceTeamWidthClass  defenceDefenderLineClass  \n",
       "1                Normal                     Cover  \n",
       "\n",
       "[1 rows x 22 columns]"
      ]
     },
     "execution_count": 33,
     "metadata": {},
     "output_type": "execute_result"
    }
   ],
   "source": [
    "df_t.head(1)"
   ]
  },
  {
   "cell_type": "code",
   "execution_count": 52,
   "metadata": {},
   "outputs": [
    {
     "data": {
      "text/html": [
       "<div>\n",
       "<style>\n",
       "    .dataframe thead tr:only-child th {\n",
       "        text-align: right;\n",
       "    }\n",
       "\n",
       "    .dataframe thead th {\n",
       "        text-align: left;\n",
       "    }\n",
       "\n",
       "    .dataframe tbody tr th {\n",
       "        vertical-align: top;\n",
       "    }\n",
       "</style>\n",
       "<table border=\"1\" class=\"dataframe\">\n",
       "  <thead>\n",
       "    <tr style=\"text-align: right;\">\n",
       "      <th></th>\n",
       "      <th>team_api_id</th>\n",
       "      <th>buildUpPlaySpeed</th>\n",
       "      <th>buildUpPlaySpeedClass</th>\n",
       "      <th>buildUpPlayDribbling</th>\n",
       "      <th>buildUpPlayDribblingClass</th>\n",
       "      <th>buildUpPlayPassing</th>\n",
       "      <th>buildUpPlayPassingClass</th>\n",
       "      <th>buildUpPlayPositioningClass</th>\n",
       "      <th>chanceCreationPassing</th>\n",
       "      <th>chanceCreationPassingClass</th>\n",
       "      <th>...</th>\n",
       "      <th>chanceCreationShooting</th>\n",
       "      <th>chanceCreationShootingClass</th>\n",
       "      <th>chanceCreationPositioningClass</th>\n",
       "      <th>defencePressure</th>\n",
       "      <th>defencePressureClass</th>\n",
       "      <th>defenceAggression</th>\n",
       "      <th>defenceAggressionClass</th>\n",
       "      <th>defenceTeamWidth</th>\n",
       "      <th>defenceTeamWidthClass</th>\n",
       "      <th>defenceDefenderLineClass</th>\n",
       "    </tr>\n",
       "  </thead>\n",
       "  <tbody>\n",
       "    <tr>\n",
       "      <th>122</th>\n",
       "      <td>8634</td>\n",
       "      <td>35</td>\n",
       "      <td>Balanced</td>\n",
       "      <td>35.0</td>\n",
       "      <td>Normal</td>\n",
       "      <td>32</td>\n",
       "      <td>Short</td>\n",
       "      <td>Free Form</td>\n",
       "      <td>37</td>\n",
       "      <td>Normal</td>\n",
       "      <td>...</td>\n",
       "      <td>35</td>\n",
       "      <td>Normal</td>\n",
       "      <td>Free Form</td>\n",
       "      <td>61</td>\n",
       "      <td>Medium</td>\n",
       "      <td>63</td>\n",
       "      <td>Press</td>\n",
       "      <td>65</td>\n",
       "      <td>Normal</td>\n",
       "      <td>Cover</td>\n",
       "    </tr>\n",
       "    <tr>\n",
       "      <th>123</th>\n",
       "      <td>8634</td>\n",
       "      <td>36</td>\n",
       "      <td>Balanced</td>\n",
       "      <td>35.0</td>\n",
       "      <td>Normal</td>\n",
       "      <td>51</td>\n",
       "      <td>Mixed</td>\n",
       "      <td>Free Form</td>\n",
       "      <td>36</td>\n",
       "      <td>Normal</td>\n",
       "      <td>...</td>\n",
       "      <td>56</td>\n",
       "      <td>Normal</td>\n",
       "      <td>Free Form</td>\n",
       "      <td>61</td>\n",
       "      <td>Medium</td>\n",
       "      <td>65</td>\n",
       "      <td>Press</td>\n",
       "      <td>65</td>\n",
       "      <td>Normal</td>\n",
       "      <td>Cover</td>\n",
       "    </tr>\n",
       "  </tbody>\n",
       "</table>\n",
       "<p>2 rows × 22 columns</p>\n",
       "</div>"
      ],
      "text/plain": [
       "     team_api_id  buildUpPlaySpeed buildUpPlaySpeedClass  \\\n",
       "122         8634                35              Balanced   \n",
       "123         8634                36              Balanced   \n",
       "\n",
       "     buildUpPlayDribbling buildUpPlayDribblingClass  buildUpPlayPassing  \\\n",
       "122                  35.0                    Normal                  32   \n",
       "123                  35.0                    Normal                  51   \n",
       "\n",
       "    buildUpPlayPassingClass buildUpPlayPositioningClass  \\\n",
       "122                   Short                   Free Form   \n",
       "123                   Mixed                   Free Form   \n",
       "\n",
       "     chanceCreationPassing chanceCreationPassingClass  \\\n",
       "122                     37                     Normal   \n",
       "123                     36                     Normal   \n",
       "\n",
       "               ...             chanceCreationShooting  \\\n",
       "122            ...                                 35   \n",
       "123            ...                                 56   \n",
       "\n",
       "    chanceCreationShootingClass  chanceCreationPositioningClass  \\\n",
       "122                      Normal                       Free Form   \n",
       "123                      Normal                       Free Form   \n",
       "\n",
       "    defencePressure defencePressureClass  defenceAggression  \\\n",
       "122              61               Medium                 63   \n",
       "123              61               Medium                 65   \n",
       "\n",
       "    defenceAggressionClass  defenceTeamWidth defenceTeamWidthClass  \\\n",
       "122                  Press                65                Normal   \n",
       "123                  Press                65                Normal   \n",
       "\n",
       "     defenceDefenderLineClass  \n",
       "122                     Cover  \n",
       "123                     Cover  \n",
       "\n",
       "[2 rows x 22 columns]"
      ]
     },
     "execution_count": 52,
     "metadata": {},
     "output_type": "execute_result"
    }
   ],
   "source": [
    "#check attributes of the best team in Spain\n",
    "best_team_spain = df_t.query('team_api_id == 8634')\n",
    "best_team_spain"
   ]
  },
  {
   "cell_type": "code",
   "execution_count": 53,
   "metadata": {},
   "outputs": [
    {
     "data": {
      "text/html": [
       "<div>\n",
       "<style>\n",
       "    .dataframe thead tr:only-child th {\n",
       "        text-align: right;\n",
       "    }\n",
       "\n",
       "    .dataframe thead th {\n",
       "        text-align: left;\n",
       "    }\n",
       "\n",
       "    .dataframe tbody tr th {\n",
       "        vertical-align: top;\n",
       "    }\n",
       "</style>\n",
       "<table border=\"1\" class=\"dataframe\">\n",
       "  <thead>\n",
       "    <tr style=\"text-align: right;\">\n",
       "      <th></th>\n",
       "      <th>team_api_id</th>\n",
       "      <th>buildUpPlaySpeed</th>\n",
       "      <th>buildUpPlaySpeedClass</th>\n",
       "      <th>buildUpPlayDribbling</th>\n",
       "      <th>buildUpPlayDribblingClass</th>\n",
       "      <th>buildUpPlayPassing</th>\n",
       "      <th>buildUpPlayPassingClass</th>\n",
       "      <th>buildUpPlayPositioningClass</th>\n",
       "      <th>chanceCreationPassing</th>\n",
       "      <th>chanceCreationPassingClass</th>\n",
       "      <th>...</th>\n",
       "      <th>chanceCreationShooting</th>\n",
       "      <th>chanceCreationShootingClass</th>\n",
       "      <th>chanceCreationPositioningClass</th>\n",
       "      <th>defencePressure</th>\n",
       "      <th>defencePressureClass</th>\n",
       "      <th>defenceAggression</th>\n",
       "      <th>defenceAggressionClass</th>\n",
       "      <th>defenceTeamWidth</th>\n",
       "      <th>defenceTeamWidthClass</th>\n",
       "      <th>defenceDefenderLineClass</th>\n",
       "    </tr>\n",
       "  </thead>\n",
       "  <tbody>\n",
       "    <tr>\n",
       "      <th>810</th>\n",
       "      <td>10260</td>\n",
       "      <td>46</td>\n",
       "      <td>Balanced</td>\n",
       "      <td>34.0</td>\n",
       "      <td>Normal</td>\n",
       "      <td>54</td>\n",
       "      <td>Mixed</td>\n",
       "      <td>Organised</td>\n",
       "      <td>49</td>\n",
       "      <td>Normal</td>\n",
       "      <td>...</td>\n",
       "      <td>56</td>\n",
       "      <td>Normal</td>\n",
       "      <td>Organised</td>\n",
       "      <td>42</td>\n",
       "      <td>Medium</td>\n",
       "      <td>41</td>\n",
       "      <td>Press</td>\n",
       "      <td>56</td>\n",
       "      <td>Normal</td>\n",
       "      <td>Cover</td>\n",
       "    </tr>\n",
       "    <tr>\n",
       "      <th>811</th>\n",
       "      <td>10260</td>\n",
       "      <td>38</td>\n",
       "      <td>Balanced</td>\n",
       "      <td>42.0</td>\n",
       "      <td>Normal</td>\n",
       "      <td>44</td>\n",
       "      <td>Mixed</td>\n",
       "      <td>Organised</td>\n",
       "      <td>49</td>\n",
       "      <td>Normal</td>\n",
       "      <td>...</td>\n",
       "      <td>40</td>\n",
       "      <td>Normal</td>\n",
       "      <td>Organised</td>\n",
       "      <td>54</td>\n",
       "      <td>Medium</td>\n",
       "      <td>53</td>\n",
       "      <td>Press</td>\n",
       "      <td>56</td>\n",
       "      <td>Normal</td>\n",
       "      <td>Cover</td>\n",
       "    </tr>\n",
       "  </tbody>\n",
       "</table>\n",
       "<p>2 rows × 22 columns</p>\n",
       "</div>"
      ],
      "text/plain": [
       "     team_api_id  buildUpPlaySpeed buildUpPlaySpeedClass  \\\n",
       "810        10260                46              Balanced   \n",
       "811        10260                38              Balanced   \n",
       "\n",
       "     buildUpPlayDribbling buildUpPlayDribblingClass  buildUpPlayPassing  \\\n",
       "810                  34.0                    Normal                  54   \n",
       "811                  42.0                    Normal                  44   \n",
       "\n",
       "    buildUpPlayPassingClass buildUpPlayPositioningClass  \\\n",
       "810                   Mixed                   Organised   \n",
       "811                   Mixed                   Organised   \n",
       "\n",
       "     chanceCreationPassing chanceCreationPassingClass  \\\n",
       "810                     49                     Normal   \n",
       "811                     49                     Normal   \n",
       "\n",
       "               ...             chanceCreationShooting  \\\n",
       "810            ...                                 56   \n",
       "811            ...                                 40   \n",
       "\n",
       "    chanceCreationShootingClass  chanceCreationPositioningClass  \\\n",
       "810                      Normal                       Organised   \n",
       "811                      Normal                       Organised   \n",
       "\n",
       "    defencePressure defencePressureClass  defenceAggression  \\\n",
       "810              42               Medium                 41   \n",
       "811              54               Medium                 53   \n",
       "\n",
       "    defenceAggressionClass  defenceTeamWidth defenceTeamWidthClass  \\\n",
       "810                  Press                56                Normal   \n",
       "811                  Press                56                Normal   \n",
       "\n",
       "     defenceDefenderLineClass  \n",
       "810                     Cover  \n",
       "811                     Cover  \n",
       "\n",
       "[2 rows x 22 columns]"
      ]
     },
     "execution_count": 53,
     "metadata": {},
     "output_type": "execute_result"
    }
   ],
   "source": [
    "#check attributes of the best team in England\n",
    "best_team_england = df_t.query('team_api_id == 10260')\n",
    "best_team_england"
   ]
  },
  {
   "cell_type": "code",
   "execution_count": 54,
   "metadata": {},
   "outputs": [
    {
     "data": {
      "text/html": [
       "<div>\n",
       "<style>\n",
       "    .dataframe thead tr:only-child th {\n",
       "        text-align: right;\n",
       "    }\n",
       "\n",
       "    .dataframe thead th {\n",
       "        text-align: left;\n",
       "    }\n",
       "\n",
       "    .dataframe tbody tr th {\n",
       "        vertical-align: top;\n",
       "    }\n",
       "</style>\n",
       "<table border=\"1\" class=\"dataframe\">\n",
       "  <thead>\n",
       "    <tr style=\"text-align: right;\">\n",
       "      <th></th>\n",
       "      <th>team_api_id</th>\n",
       "      <th>buildUpPlaySpeed</th>\n",
       "      <th>buildUpPlaySpeedClass</th>\n",
       "      <th>buildUpPlayDribbling</th>\n",
       "      <th>buildUpPlayDribblingClass</th>\n",
       "      <th>buildUpPlayPassing</th>\n",
       "      <th>buildUpPlayPassingClass</th>\n",
       "      <th>buildUpPlayPositioningClass</th>\n",
       "      <th>chanceCreationPassing</th>\n",
       "      <th>chanceCreationPassingClass</th>\n",
       "      <th>...</th>\n",
       "      <th>chanceCreationShooting</th>\n",
       "      <th>chanceCreationShootingClass</th>\n",
       "      <th>chanceCreationPositioningClass</th>\n",
       "      <th>defencePressure</th>\n",
       "      <th>defencePressureClass</th>\n",
       "      <th>defenceAggression</th>\n",
       "      <th>defenceAggressionClass</th>\n",
       "      <th>defenceTeamWidth</th>\n",
       "      <th>defenceTeamWidthClass</th>\n",
       "      <th>defenceDefenderLineClass</th>\n",
       "    </tr>\n",
       "  </thead>\n",
       "  <tbody>\n",
       "    <tr>\n",
       "      <th>628</th>\n",
       "      <td>9885</td>\n",
       "      <td>26</td>\n",
       "      <td>Slow</td>\n",
       "      <td>47.0</td>\n",
       "      <td>Normal</td>\n",
       "      <td>24</td>\n",
       "      <td>Short</td>\n",
       "      <td>Organised</td>\n",
       "      <td>64</td>\n",
       "      <td>Normal</td>\n",
       "      <td>...</td>\n",
       "      <td>72</td>\n",
       "      <td>Lots</td>\n",
       "      <td>Organised</td>\n",
       "      <td>23</td>\n",
       "      <td>Deep</td>\n",
       "      <td>67</td>\n",
       "      <td>Double</td>\n",
       "      <td>36</td>\n",
       "      <td>Normal</td>\n",
       "      <td>Cover</td>\n",
       "    </tr>\n",
       "    <tr>\n",
       "      <th>629</th>\n",
       "      <td>9885</td>\n",
       "      <td>50</td>\n",
       "      <td>Balanced</td>\n",
       "      <td>35.0</td>\n",
       "      <td>Normal</td>\n",
       "      <td>20</td>\n",
       "      <td>Short</td>\n",
       "      <td>Organised</td>\n",
       "      <td>65</td>\n",
       "      <td>Normal</td>\n",
       "      <td>...</td>\n",
       "      <td>80</td>\n",
       "      <td>Lots</td>\n",
       "      <td>Organised</td>\n",
       "      <td>35</td>\n",
       "      <td>Medium</td>\n",
       "      <td>65</td>\n",
       "      <td>Press</td>\n",
       "      <td>35</td>\n",
       "      <td>Normal</td>\n",
       "      <td>Cover</td>\n",
       "    </tr>\n",
       "  </tbody>\n",
       "</table>\n",
       "<p>2 rows × 22 columns</p>\n",
       "</div>"
      ],
      "text/plain": [
       "     team_api_id  buildUpPlaySpeed buildUpPlaySpeedClass  \\\n",
       "628         9885                26                  Slow   \n",
       "629         9885                50              Balanced   \n",
       "\n",
       "     buildUpPlayDribbling buildUpPlayDribblingClass  buildUpPlayPassing  \\\n",
       "628                  47.0                    Normal                  24   \n",
       "629                  35.0                    Normal                  20   \n",
       "\n",
       "    buildUpPlayPassingClass buildUpPlayPositioningClass  \\\n",
       "628                   Short                   Organised   \n",
       "629                   Short                   Organised   \n",
       "\n",
       "     chanceCreationPassing chanceCreationPassingClass  \\\n",
       "628                     64                     Normal   \n",
       "629                     65                     Normal   \n",
       "\n",
       "               ...             chanceCreationShooting  \\\n",
       "628            ...                                 72   \n",
       "629            ...                                 80   \n",
       "\n",
       "    chanceCreationShootingClass  chanceCreationPositioningClass  \\\n",
       "628                        Lots                       Organised   \n",
       "629                        Lots                       Organised   \n",
       "\n",
       "    defencePressure defencePressureClass  defenceAggression  \\\n",
       "628              23                 Deep                 67   \n",
       "629              35               Medium                 65   \n",
       "\n",
       "    defenceAggressionClass  defenceTeamWidth defenceTeamWidthClass  \\\n",
       "628                 Double                36                Normal   \n",
       "629                  Press                35                Normal   \n",
       "\n",
       "     defenceDefenderLineClass  \n",
       "628                     Cover  \n",
       "629                     Cover  \n",
       "\n",
       "[2 rows x 22 columns]"
      ]
     },
     "execution_count": 54,
     "metadata": {},
     "output_type": "execute_result"
    }
   ],
   "source": [
    "#check attributes of the best team in Italy\n",
    "best_team_italy = df_t.query('team_api_id == 9885')\n",
    "best_team_italy"
   ]
  },
  {
   "cell_type": "code",
   "execution_count": 58,
   "metadata": {},
   "outputs": [
    {
     "data": {
      "text/html": [
       "<div>\n",
       "<style>\n",
       "    .dataframe thead tr:only-child th {\n",
       "        text-align: right;\n",
       "    }\n",
       "\n",
       "    .dataframe thead th {\n",
       "        text-align: left;\n",
       "    }\n",
       "\n",
       "    .dataframe tbody tr th {\n",
       "        vertical-align: top;\n",
       "    }\n",
       "</style>\n",
       "<table border=\"1\" class=\"dataframe\">\n",
       "  <thead>\n",
       "    <tr style=\"text-align: right;\">\n",
       "      <th></th>\n",
       "      <th>team_api_id</th>\n",
       "      <th>buildUpPlaySpeed</th>\n",
       "      <th>buildUpPlaySpeedClass</th>\n",
       "      <th>buildUpPlayDribbling</th>\n",
       "      <th>buildUpPlayDribblingClass</th>\n",
       "      <th>buildUpPlayPassing</th>\n",
       "      <th>buildUpPlayPassingClass</th>\n",
       "      <th>buildUpPlayPositioningClass</th>\n",
       "      <th>chanceCreationPassing</th>\n",
       "      <th>chanceCreationPassingClass</th>\n",
       "      <th>...</th>\n",
       "      <th>chanceCreationShooting</th>\n",
       "      <th>chanceCreationShootingClass</th>\n",
       "      <th>chanceCreationPositioningClass</th>\n",
       "      <th>defencePressure</th>\n",
       "      <th>defencePressureClass</th>\n",
       "      <th>defenceAggression</th>\n",
       "      <th>defenceAggressionClass</th>\n",
       "      <th>defenceTeamWidth</th>\n",
       "      <th>defenceTeamWidthClass</th>\n",
       "      <th>defenceDefenderLineClass</th>\n",
       "    </tr>\n",
       "  </thead>\n",
       "  <tbody>\n",
       "    <tr>\n",
       "      <th>0</th>\n",
       "      <td>8634</td>\n",
       "      <td>35</td>\n",
       "      <td>Balanced</td>\n",
       "      <td>35.0</td>\n",
       "      <td>Normal</td>\n",
       "      <td>32</td>\n",
       "      <td>Short</td>\n",
       "      <td>Free Form</td>\n",
       "      <td>37</td>\n",
       "      <td>Normal</td>\n",
       "      <td>...</td>\n",
       "      <td>35</td>\n",
       "      <td>Normal</td>\n",
       "      <td>Free Form</td>\n",
       "      <td>61</td>\n",
       "      <td>Medium</td>\n",
       "      <td>63</td>\n",
       "      <td>Press</td>\n",
       "      <td>65</td>\n",
       "      <td>Normal</td>\n",
       "      <td>Cover</td>\n",
       "    </tr>\n",
       "    <tr>\n",
       "      <th>1</th>\n",
       "      <td>8634</td>\n",
       "      <td>36</td>\n",
       "      <td>Balanced</td>\n",
       "      <td>35.0</td>\n",
       "      <td>Normal</td>\n",
       "      <td>51</td>\n",
       "      <td>Mixed</td>\n",
       "      <td>Free Form</td>\n",
       "      <td>36</td>\n",
       "      <td>Normal</td>\n",
       "      <td>...</td>\n",
       "      <td>56</td>\n",
       "      <td>Normal</td>\n",
       "      <td>Free Form</td>\n",
       "      <td>61</td>\n",
       "      <td>Medium</td>\n",
       "      <td>65</td>\n",
       "      <td>Press</td>\n",
       "      <td>65</td>\n",
       "      <td>Normal</td>\n",
       "      <td>Cover</td>\n",
       "    </tr>\n",
       "    <tr>\n",
       "      <th>2</th>\n",
       "      <td>10260</td>\n",
       "      <td>46</td>\n",
       "      <td>Balanced</td>\n",
       "      <td>34.0</td>\n",
       "      <td>Normal</td>\n",
       "      <td>54</td>\n",
       "      <td>Mixed</td>\n",
       "      <td>Organised</td>\n",
       "      <td>49</td>\n",
       "      <td>Normal</td>\n",
       "      <td>...</td>\n",
       "      <td>56</td>\n",
       "      <td>Normal</td>\n",
       "      <td>Organised</td>\n",
       "      <td>42</td>\n",
       "      <td>Medium</td>\n",
       "      <td>41</td>\n",
       "      <td>Press</td>\n",
       "      <td>56</td>\n",
       "      <td>Normal</td>\n",
       "      <td>Cover</td>\n",
       "    </tr>\n",
       "    <tr>\n",
       "      <th>3</th>\n",
       "      <td>10260</td>\n",
       "      <td>38</td>\n",
       "      <td>Balanced</td>\n",
       "      <td>42.0</td>\n",
       "      <td>Normal</td>\n",
       "      <td>44</td>\n",
       "      <td>Mixed</td>\n",
       "      <td>Organised</td>\n",
       "      <td>49</td>\n",
       "      <td>Normal</td>\n",
       "      <td>...</td>\n",
       "      <td>40</td>\n",
       "      <td>Normal</td>\n",
       "      <td>Organised</td>\n",
       "      <td>54</td>\n",
       "      <td>Medium</td>\n",
       "      <td>53</td>\n",
       "      <td>Press</td>\n",
       "      <td>56</td>\n",
       "      <td>Normal</td>\n",
       "      <td>Cover</td>\n",
       "    </tr>\n",
       "    <tr>\n",
       "      <th>4</th>\n",
       "      <td>9885</td>\n",
       "      <td>26</td>\n",
       "      <td>Slow</td>\n",
       "      <td>47.0</td>\n",
       "      <td>Normal</td>\n",
       "      <td>24</td>\n",
       "      <td>Short</td>\n",
       "      <td>Organised</td>\n",
       "      <td>64</td>\n",
       "      <td>Normal</td>\n",
       "      <td>...</td>\n",
       "      <td>72</td>\n",
       "      <td>Lots</td>\n",
       "      <td>Organised</td>\n",
       "      <td>23</td>\n",
       "      <td>Deep</td>\n",
       "      <td>67</td>\n",
       "      <td>Double</td>\n",
       "      <td>36</td>\n",
       "      <td>Normal</td>\n",
       "      <td>Cover</td>\n",
       "    </tr>\n",
       "    <tr>\n",
       "      <th>5</th>\n",
       "      <td>9885</td>\n",
       "      <td>50</td>\n",
       "      <td>Balanced</td>\n",
       "      <td>35.0</td>\n",
       "      <td>Normal</td>\n",
       "      <td>20</td>\n",
       "      <td>Short</td>\n",
       "      <td>Organised</td>\n",
       "      <td>65</td>\n",
       "      <td>Normal</td>\n",
       "      <td>...</td>\n",
       "      <td>80</td>\n",
       "      <td>Lots</td>\n",
       "      <td>Organised</td>\n",
       "      <td>35</td>\n",
       "      <td>Medium</td>\n",
       "      <td>65</td>\n",
       "      <td>Press</td>\n",
       "      <td>35</td>\n",
       "      <td>Normal</td>\n",
       "      <td>Cover</td>\n",
       "    </tr>\n",
       "  </tbody>\n",
       "</table>\n",
       "<p>6 rows × 22 columns</p>\n",
       "</div>"
      ],
      "text/plain": [
       "   team_api_id  buildUpPlaySpeed buildUpPlaySpeedClass  buildUpPlayDribbling  \\\n",
       "0         8634                35              Balanced                  35.0   \n",
       "1         8634                36              Balanced                  35.0   \n",
       "2        10260                46              Balanced                  34.0   \n",
       "3        10260                38              Balanced                  42.0   \n",
       "4         9885                26                  Slow                  47.0   \n",
       "5         9885                50              Balanced                  35.0   \n",
       "\n",
       "  buildUpPlayDribblingClass  buildUpPlayPassing buildUpPlayPassingClass  \\\n",
       "0                    Normal                  32                   Short   \n",
       "1                    Normal                  51                   Mixed   \n",
       "2                    Normal                  54                   Mixed   \n",
       "3                    Normal                  44                   Mixed   \n",
       "4                    Normal                  24                   Short   \n",
       "5                    Normal                  20                   Short   \n",
       "\n",
       "  buildUpPlayPositioningClass  chanceCreationPassing  \\\n",
       "0                   Free Form                     37   \n",
       "1                   Free Form                     36   \n",
       "2                   Organised                     49   \n",
       "3                   Organised                     49   \n",
       "4                   Organised                     64   \n",
       "5                   Organised                     65   \n",
       "\n",
       "  chanceCreationPassingClass            ...             \\\n",
       "0                     Normal            ...              \n",
       "1                     Normal            ...              \n",
       "2                     Normal            ...              \n",
       "3                     Normal            ...              \n",
       "4                     Normal            ...              \n",
       "5                     Normal            ...              \n",
       "\n",
       "   chanceCreationShooting chanceCreationShootingClass  \\\n",
       "0                      35                      Normal   \n",
       "1                      56                      Normal   \n",
       "2                      56                      Normal   \n",
       "3                      40                      Normal   \n",
       "4                      72                        Lots   \n",
       "5                      80                        Lots   \n",
       "\n",
       "   chanceCreationPositioningClass defencePressure defencePressureClass  \\\n",
       "0                       Free Form              61               Medium   \n",
       "1                       Free Form              61               Medium   \n",
       "2                       Organised              42               Medium   \n",
       "3                       Organised              54               Medium   \n",
       "4                       Organised              23                 Deep   \n",
       "5                       Organised              35               Medium   \n",
       "\n",
       "   defenceAggression defenceAggressionClass  defenceTeamWidth  \\\n",
       "0                 63                  Press                65   \n",
       "1                 65                  Press                65   \n",
       "2                 41                  Press                56   \n",
       "3                 53                  Press                56   \n",
       "4                 67                 Double                36   \n",
       "5                 65                  Press                35   \n",
       "\n",
       "  defenceTeamWidthClass  defenceDefenderLineClass  \n",
       "0                Normal                     Cover  \n",
       "1                Normal                     Cover  \n",
       "2                Normal                     Cover  \n",
       "3                Normal                     Cover  \n",
       "4                Normal                     Cover  \n",
       "5                Normal                     Cover  \n",
       "\n",
       "[6 rows x 22 columns]"
      ]
     },
     "execution_count": 58,
     "metadata": {},
     "output_type": "execute_result"
    }
   ],
   "source": [
    "#merge dataframes\n",
    "best_teams = best_team_spain.append(best_team_england, ignore_index=True)\n",
    "best_teams = best_teams.append(best_team_italy, ignore_index=True)\n",
    "best_teams.head(6)"
   ]
  },
  {
   "cell_type": "markdown",
   "metadata": {},
   "source": [
    "I can say that the success of the best teams might be given by a balanced play speed and organised positioning."
   ]
  },
  {
   "cell_type": "markdown",
   "metadata": {},
   "source": [
    "### Limitations and Challenges"
   ]
  },
  {
   "cell_type": "markdown",
   "metadata": {},
   "source": [
    "During the analysis of this project I faced many limitations and challenges due to the fact that the data was very inaccurate.\n",
    "\n",
    "The name of the players were incomplete, some of them didn't have any last names, just first names, and also some of them were missing completely. Moreover, I couldn't link the players to the teamsas there was no correlation between them.\n",
    "\n",
    "The team names were missing, so the analysis was based only on IDs and due to this I cannot show a clear image on which are the teams I relate to. \n",
    "\n",
    "Relevant data is missing so \n"
   ]
  },
  {
   "cell_type": "markdown",
   "metadata": {},
   "source": [
    "<a id='conclusions'></a>\n",
    "## Conclusions\n",
    "\n",
    "I have found that the best leagues in Europe during 2008-2016 are Spain, England and Italy. The best teams have won around 200 games over this period.\n",
    "\n",
    "The average rating of a player is 68 and there are more players above average than below average. The attributes that count towards this rating of the players are: heading accuracy, ball control, sprint speed, long shots, shot power, dribbling and strength.\n",
    "\n",
    "The success of the best teams might be given by a balanced play speed and organised positioning.\n"
   ]
  },
  {
   "cell_type": "code",
   "execution_count": null,
   "metadata": {
    "collapsed": true
   },
   "outputs": [],
   "source": [
    "from subprocess import call\n",
    "call(['python', '-m', 'nbconvert', 'Investigate_a_Dataset.ipynb'])"
   ]
  }
 ],
 "metadata": {
  "kernelspec": {
   "display_name": "Python 3",
   "language": "python",
   "name": "python3"
  },
  "language_info": {
   "codemirror_mode": {
    "name": "ipython",
    "version": 3
   },
   "file_extension": ".py",
   "mimetype": "text/x-python",
   "name": "python",
   "nbconvert_exporter": "python",
   "pygments_lexer": "ipython3",
   "version": "3.8.3"
  }
 },
 "nbformat": 4,
 "nbformat_minor": 2
}
