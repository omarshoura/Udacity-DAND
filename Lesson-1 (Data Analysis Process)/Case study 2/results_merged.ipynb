{
 "cells": [
  {
   "cell_type": "markdown",
   "metadata": {},
   "source": [
    "# Results with Merged Dataset\n",
    "#### Q5: For all of the models that were produced in 2008 that are still being produced now, how much has the mpg improved and which vehicle improved the most?\n",
    "Remember to use your new dataset, `combined_dataset.csv`. You should've created this data file in the previous section: *Merging Datasets*."
   ]
  },
  {
   "cell_type": "code",
   "execution_count": 10,
   "metadata": {},
   "outputs": [],
   "source": [
    "import pandas as pd\n",
    "# load dataset\n",
    "\n",
    "df = pd.read_csv('combined_dataset.csv')\n"
   ]
  },
  {
   "cell_type": "markdown",
   "metadata": {
    "collapsed": true
   },
   "source": [
    "### 1. Create a new dataframe, `model_mpg`, that contain the mean combined mpg values in 2008 and 2018 for each unique model\n",
    "\n",
    "To do this, group by `model` and find the mean `cmb_mpg_2008` and mean `cmb_mpg` for each."
   ]
  },
  {
   "cell_type": "code",
   "execution_count": 11,
   "metadata": {},
   "outputs": [
    {
     "data": {
      "text/plain": [
       "model\n",
       "ACURA RDX            19.000000\n",
       "AUDI A3              23.333333\n",
       "AUDI A4              21.000000\n",
       "AUDI A6              19.666667\n",
       "AUDI A8 L            16.500000\n",
       "                       ...    \n",
       "TOYOTA Yaris         31.500000\n",
       "VOLKSWAGEN Jetta     24.166667\n",
       "VOLKSWAGEN Passat    21.250000\n",
       "VOLVO S60            21.333333\n",
       "VOLVO XC 90          15.666667\n",
       "Name: cmb_mpg_2008, Length: 72, dtype: float64"
      ]
     },
     "execution_count": 11,
     "metadata": {},
     "output_type": "execute_result"
    }
   ],
   "source": [
    "model_mpg = df.groupby('model').mean()\n",
    "model_mpg['cmb_mpg_2008']"
   ]
  },
  {
   "cell_type": "markdown",
   "metadata": {},
   "source": [
    "### 2. Create a new column, `mpg_change`, with the change in mpg\n",
    "Subtract the mean mpg in 2008 from that in 2018 to get the change in mpg"
   ]
  },
  {
   "cell_type": "code",
   "execution_count": 12,
   "metadata": {},
   "outputs": [],
   "source": [
    "model_mpg['mpg_change'] = model_mpg.cmb_mpg-model_mpg.cmb_mpg_2008"
   ]
  },
  {
   "cell_type": "code",
   "execution_count": 13,
   "metadata": {},
   "outputs": [
    {
     "data": {
      "text/html": [
       "<div>\n",
       "<style scoped>\n",
       "    .dataframe tbody tr th:only-of-type {\n",
       "        vertical-align: middle;\n",
       "    }\n",
       "\n",
       "    .dataframe tbody tr th {\n",
       "        vertical-align: top;\n",
       "    }\n",
       "\n",
       "    .dataframe thead th {\n",
       "        text-align: right;\n",
       "    }\n",
       "</style>\n",
       "<table border=\"1\" class=\"dataframe\">\n",
       "  <thead>\n",
       "    <tr style=\"text-align: right;\">\n",
       "      <th></th>\n",
       "      <th>displ_2008</th>\n",
       "      <th>cyl_2008</th>\n",
       "      <th>air_pollut_2008</th>\n",
       "      <th>city_mpg_2008</th>\n",
       "      <th>hwy_mpg_2008</th>\n",
       "      <th>cmb_mpg_2008</th>\n",
       "      <th>greenhouse_2008</th>\n",
       "      <th>displ</th>\n",
       "      <th>cyl</th>\n",
       "      <th>air_pollution_score</th>\n",
       "      <th>city_mpg</th>\n",
       "      <th>hwy_mpg</th>\n",
       "      <th>cmb_mpg</th>\n",
       "      <th>greenhouse_gas_score</th>\n",
       "      <th>mpg_change</th>\n",
       "    </tr>\n",
       "    <tr>\n",
       "      <th>model</th>\n",
       "      <th></th>\n",
       "      <th></th>\n",
       "      <th></th>\n",
       "      <th></th>\n",
       "      <th></th>\n",
       "      <th></th>\n",
       "      <th></th>\n",
       "      <th></th>\n",
       "      <th></th>\n",
       "      <th></th>\n",
       "      <th></th>\n",
       "      <th></th>\n",
       "      <th></th>\n",
       "      <th></th>\n",
       "      <th></th>\n",
       "    </tr>\n",
       "  </thead>\n",
       "  <tbody>\n",
       "    <tr>\n",
       "      <th>ACURA RDX</th>\n",
       "      <td>2.300000</td>\n",
       "      <td>4.000000</td>\n",
       "      <td>7.000000</td>\n",
       "      <td>17.000000</td>\n",
       "      <td>22.000000</td>\n",
       "      <td>19.000000</td>\n",
       "      <td>5.000000</td>\n",
       "      <td>3.500000</td>\n",
       "      <td>6.000000</td>\n",
       "      <td>3.000000</td>\n",
       "      <td>19.500000</td>\n",
       "      <td>27.500000</td>\n",
       "      <td>22.500000</td>\n",
       "      <td>4.500000</td>\n",
       "      <td>3.500000</td>\n",
       "    </tr>\n",
       "    <tr>\n",
       "      <th>AUDI A3</th>\n",
       "      <td>2.400000</td>\n",
       "      <td>4.666667</td>\n",
       "      <td>6.666667</td>\n",
       "      <td>20.333333</td>\n",
       "      <td>27.666667</td>\n",
       "      <td>23.333333</td>\n",
       "      <td>6.666667</td>\n",
       "      <td>2.000000</td>\n",
       "      <td>4.000000</td>\n",
       "      <td>7.000000</td>\n",
       "      <td>25.000000</td>\n",
       "      <td>33.000000</td>\n",
       "      <td>28.000000</td>\n",
       "      <td>6.000000</td>\n",
       "      <td>4.666667</td>\n",
       "    </tr>\n",
       "    <tr>\n",
       "      <th>AUDI A4</th>\n",
       "      <td>2.825000</td>\n",
       "      <td>5.500000</td>\n",
       "      <td>6.250000</td>\n",
       "      <td>17.750000</td>\n",
       "      <td>26.750000</td>\n",
       "      <td>21.000000</td>\n",
       "      <td>6.000000</td>\n",
       "      <td>2.000000</td>\n",
       "      <td>4.000000</td>\n",
       "      <td>4.000000</td>\n",
       "      <td>24.000000</td>\n",
       "      <td>33.500000</td>\n",
       "      <td>27.000000</td>\n",
       "      <td>6.000000</td>\n",
       "      <td>6.000000</td>\n",
       "    </tr>\n",
       "    <tr>\n",
       "      <th>AUDI A6</th>\n",
       "      <td>3.466667</td>\n",
       "      <td>6.666667</td>\n",
       "      <td>6.000000</td>\n",
       "      <td>17.000000</td>\n",
       "      <td>25.000000</td>\n",
       "      <td>19.666667</td>\n",
       "      <td>5.666667</td>\n",
       "      <td>2.333333</td>\n",
       "      <td>4.666667</td>\n",
       "      <td>4.333333</td>\n",
       "      <td>22.333333</td>\n",
       "      <td>31.333333</td>\n",
       "      <td>25.666667</td>\n",
       "      <td>5.333333</td>\n",
       "      <td>6.000000</td>\n",
       "    </tr>\n",
       "    <tr>\n",
       "      <th>AUDI A8 L</th>\n",
       "      <td>5.100000</td>\n",
       "      <td>10.000000</td>\n",
       "      <td>6.000000</td>\n",
       "      <td>14.500000</td>\n",
       "      <td>21.000000</td>\n",
       "      <td>16.500000</td>\n",
       "      <td>4.000000</td>\n",
       "      <td>3.000000</td>\n",
       "      <td>6.000000</td>\n",
       "      <td>3.000000</td>\n",
       "      <td>19.000000</td>\n",
       "      <td>29.000000</td>\n",
       "      <td>22.000000</td>\n",
       "      <td>4.000000</td>\n",
       "      <td>5.500000</td>\n",
       "    </tr>\n",
       "  </tbody>\n",
       "</table>\n",
       "</div>"
      ],
      "text/plain": [
       "           displ_2008   cyl_2008  air_pollut_2008  city_mpg_2008  \\\n",
       "model                                                              \n",
       "ACURA RDX    2.300000   4.000000         7.000000      17.000000   \n",
       "AUDI A3      2.400000   4.666667         6.666667      20.333333   \n",
       "AUDI A4      2.825000   5.500000         6.250000      17.750000   \n",
       "AUDI A6      3.466667   6.666667         6.000000      17.000000   \n",
       "AUDI A8 L    5.100000  10.000000         6.000000      14.500000   \n",
       "\n",
       "           hwy_mpg_2008  cmb_mpg_2008  greenhouse_2008     displ       cyl  \\\n",
       "model                                                                        \n",
       "ACURA RDX     22.000000     19.000000         5.000000  3.500000  6.000000   \n",
       "AUDI A3       27.666667     23.333333         6.666667  2.000000  4.000000   \n",
       "AUDI A4       26.750000     21.000000         6.000000  2.000000  4.000000   \n",
       "AUDI A6       25.000000     19.666667         5.666667  2.333333  4.666667   \n",
       "AUDI A8 L     21.000000     16.500000         4.000000  3.000000  6.000000   \n",
       "\n",
       "           air_pollution_score   city_mpg    hwy_mpg    cmb_mpg  \\\n",
       "model                                                             \n",
       "ACURA RDX             3.000000  19.500000  27.500000  22.500000   \n",
       "AUDI A3               7.000000  25.000000  33.000000  28.000000   \n",
       "AUDI A4               4.000000  24.000000  33.500000  27.000000   \n",
       "AUDI A6               4.333333  22.333333  31.333333  25.666667   \n",
       "AUDI A8 L             3.000000  19.000000  29.000000  22.000000   \n",
       "\n",
       "           greenhouse_gas_score  mpg_change  \n",
       "model                                        \n",
       "ACURA RDX              4.500000    3.500000  \n",
       "AUDI A3                6.000000    4.666667  \n",
       "AUDI A4                6.000000    6.000000  \n",
       "AUDI A6                5.333333    6.000000  \n",
       "AUDI A8 L              4.000000    5.500000  "
      ]
     },
     "execution_count": 13,
     "metadata": {},
     "output_type": "execute_result"
    }
   ],
   "source": [
    "model_mpg.head()"
   ]
  },
  {
   "cell_type": "markdown",
   "metadata": {},
   "source": [
    "### 3. Find the vehicle that improved the most\n",
    "Find the max mpg change, and then use query or indexing to see what model it is!"
   ]
  },
  {
   "cell_type": "code",
   "execution_count": 14,
   "metadata": {},
   "outputs": [
    {
     "data": {
      "text/plain": [
       "16.53333333333334"
      ]
     },
     "execution_count": 14,
     "metadata": {},
     "output_type": "execute_result"
    }
   ],
   "source": [
    "model_mpg.mpg_change.max()"
   ]
  },
  {
   "cell_type": "code",
   "execution_count": 16,
   "metadata": {},
   "outputs": [
    {
     "data": {
      "text/html": [
       "<div>\n",
       "<style scoped>\n",
       "    .dataframe tbody tr th:only-of-type {\n",
       "        vertical-align: middle;\n",
       "    }\n",
       "\n",
       "    .dataframe tbody tr th {\n",
       "        vertical-align: top;\n",
       "    }\n",
       "\n",
       "    .dataframe thead th {\n",
       "        text-align: right;\n",
       "    }\n",
       "</style>\n",
       "<table border=\"1\" class=\"dataframe\">\n",
       "  <thead>\n",
       "    <tr style=\"text-align: right;\">\n",
       "      <th></th>\n",
       "      <th>displ_2008</th>\n",
       "      <th>cyl_2008</th>\n",
       "      <th>air_pollut_2008</th>\n",
       "      <th>city_mpg_2008</th>\n",
       "      <th>hwy_mpg_2008</th>\n",
       "      <th>cmb_mpg_2008</th>\n",
       "      <th>greenhouse_2008</th>\n",
       "      <th>displ</th>\n",
       "      <th>cyl</th>\n",
       "      <th>air_pollution_score</th>\n",
       "      <th>city_mpg</th>\n",
       "      <th>hwy_mpg</th>\n",
       "      <th>cmb_mpg</th>\n",
       "      <th>greenhouse_gas_score</th>\n",
       "      <th>mpg_change</th>\n",
       "    </tr>\n",
       "    <tr>\n",
       "      <th>model</th>\n",
       "      <th></th>\n",
       "      <th></th>\n",
       "      <th></th>\n",
       "      <th></th>\n",
       "      <th></th>\n",
       "      <th></th>\n",
       "      <th></th>\n",
       "      <th></th>\n",
       "      <th></th>\n",
       "      <th></th>\n",
       "      <th></th>\n",
       "      <th></th>\n",
       "      <th></th>\n",
       "      <th></th>\n",
       "      <th></th>\n",
       "    </tr>\n",
       "  </thead>\n",
       "  <tbody>\n",
       "    <tr>\n",
       "      <th>VOLVO XC 90</th>\n",
       "      <td>3.6</td>\n",
       "      <td>6.666667</td>\n",
       "      <td>7.0</td>\n",
       "      <td>13.666667</td>\n",
       "      <td>19.666667</td>\n",
       "      <td>15.666667</td>\n",
       "      <td>3.666667</td>\n",
       "      <td>2.0</td>\n",
       "      <td>4.0</td>\n",
       "      <td>5.8</td>\n",
       "      <td>30.6</td>\n",
       "      <td>35.0</td>\n",
       "      <td>32.2</td>\n",
       "      <td>7.0</td>\n",
       "      <td>16.533333</td>\n",
       "    </tr>\n",
       "  </tbody>\n",
       "</table>\n",
       "</div>"
      ],
      "text/plain": [
       "             displ_2008  cyl_2008  air_pollut_2008  city_mpg_2008  \\\n",
       "model                                                               \n",
       "VOLVO XC 90         3.6  6.666667              7.0      13.666667   \n",
       "\n",
       "             hwy_mpg_2008  cmb_mpg_2008  greenhouse_2008  displ  cyl  \\\n",
       "model                                                                  \n",
       "VOLVO XC 90     19.666667     15.666667         3.666667    2.0  4.0   \n",
       "\n",
       "             air_pollution_score  city_mpg  hwy_mpg  cmb_mpg  \\\n",
       "model                                                          \n",
       "VOLVO XC 90                  5.8      30.6     35.0     32.2   \n",
       "\n",
       "             greenhouse_gas_score  mpg_change  \n",
       "model                                          \n",
       "VOLVO XC 90                   7.0   16.533333  "
      ]
     },
     "execution_count": 16,
     "metadata": {},
     "output_type": "execute_result"
    }
   ],
   "source": [
    "model_mpg.query('mpg_change==16.53333333333334')"
   ]
  }
 ],
 "metadata": {
  "kernelspec": {
   "display_name": "Python 3",
   "language": "python",
   "name": "python3"
  },
  "language_info": {
   "codemirror_mode": {
    "name": "ipython",
    "version": 3
   },
   "file_extension": ".py",
   "mimetype": "text/x-python",
   "name": "python",
   "nbconvert_exporter": "python",
   "pygments_lexer": "ipython3",
   "version": "3.8.3"
  }
 },
 "nbformat": 4,
 "nbformat_minor": 2
}
